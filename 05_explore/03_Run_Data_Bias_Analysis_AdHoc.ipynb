{
 "cells": [
  {
   "cell_type": "markdown",
   "metadata": {},
   "source": [
    "# Run Ad-Hoc Data Bias Analysis\n",
    "\n",
    "## Run Bias Analysis In The Notebook using `smclarify`\n",
    "https://github.com/aws/amazon-sagemaker-clarify\n"
   ]
  },
  {
   "cell_type": "code",
   "execution_count": 3,
   "metadata": {},
   "outputs": [
    {
     "name": "stdout",
     "output_type": "stream",
     "text": [
      "Requirement already satisfied: scikit-learn in /home/sagemaker-user/.conda/envs/data_science_on_aws/lib/python3.7/site-packages (1.0.2)\n",
      "Requirement already satisfied: numpy>=1.14.6 in /home/sagemaker-user/.conda/envs/data_science_on_aws/lib/python3.7/site-packages (from scikit-learn) (1.18.5)\n",
      "Requirement already satisfied: scipy>=1.1.0 in /home/sagemaker-user/.conda/envs/data_science_on_aws/lib/python3.7/site-packages (from scikit-learn) (1.7.3)\n",
      "Requirement already satisfied: joblib>=0.11 in /home/sagemaker-user/.conda/envs/data_science_on_aws/lib/python3.7/site-packages (from scikit-learn) (1.3.2)\n",
      "Requirement already satisfied: threadpoolctl>=2.0.0 in /home/sagemaker-user/.conda/envs/data_science_on_aws/lib/python3.7/site-packages (from scikit-learn) (3.1.0)\n"
     ]
    }
   ],
   "source": [
    "!pip install -U scikit-learn"
   ]
  },
  {
   "cell_type": "code",
   "execution_count": 6,
   "metadata": {},
   "outputs": [
    {
     "name": "stdout",
     "output_type": "stream",
     "text": [
      "Requirement already satisfied: scikit-learn in /home/sagemaker-user/.conda/envs/data_science_on_aws/lib/python3.7/site-packages (1.0.2)\n",
      "Requirement already satisfied: numpy>=1.14.6 in /home/sagemaker-user/.conda/envs/data_science_on_aws/lib/python3.7/site-packages (from scikit-learn) (1.18.5)\n",
      "Requirement already satisfied: scipy>=1.1.0 in /home/sagemaker-user/.conda/envs/data_science_on_aws/lib/python3.7/site-packages (from scikit-learn) (1.7.3)\n",
      "Requirement already satisfied: joblib>=0.11 in /home/sagemaker-user/.conda/envs/data_science_on_aws/lib/python3.7/site-packages (from scikit-learn) (1.3.2)\n",
      "Requirement already satisfied: threadpoolctl>=2.0.0 in /home/sagemaker-user/.conda/envs/data_science_on_aws/lib/python3.7/site-packages (from scikit-learn) (3.1.0)\n"
     ]
    }
   ],
   "source": [
    "!pip install scikit-learn"
   ]
  },
  {
   "cell_type": "code",
   "execution_count": 7,
   "metadata": {},
   "outputs": [
    {
     "name": "stdout",
     "output_type": "stream",
     "text": [
      "Collecting smclarify==0.1\n",
      "  Using cached smclarify-0.1-py3-none-any.whl (24 kB)\n",
      "Requirement already satisfied: boto3 in /home/sagemaker-user/.conda/envs/data_science_on_aws/lib/python3.7/site-packages (from smclarify==0.1) (1.33.13)\n",
      "Requirement already satisfied: pyarrow in /home/sagemaker-user/.conda/envs/data_science_on_aws/lib/python3.7/site-packages (from smclarify==0.1) (6.0.1)\n",
      "Requirement already satisfied: pandas in /home/sagemaker-user/.conda/envs/data_science_on_aws/lib/python3.7/site-packages (from smclarify==0.1) (1.3.5)\n",
      "Collecting s3fs (from smclarify==0.1)\n",
      "  Using cached s3fs-2023.1.0-py3-none-any.whl (27 kB)\n",
      "Requirement already satisfied: numpy in /home/sagemaker-user/.conda/envs/data_science_on_aws/lib/python3.7/site-packages (from smclarify==0.1) (1.18.5)\n",
      "Collecting sklearn (from smclarify==0.1)\n",
      "  Using cached sklearn-0.0.post12.tar.gz (2.6 kB)\n",
      "  Preparing metadata (setup.py) ... \u001b[?25lerror\n",
      "  \u001b[1;31merror\u001b[0m: \u001b[1msubprocess-exited-with-error\u001b[0m\n",
      "  \n",
      "  \u001b[31m×\u001b[0m \u001b[32mpython setup.py egg_info\u001b[0m did not run successfully.\n",
      "  \u001b[31m│\u001b[0m exit code: \u001b[1;36m1\u001b[0m\n",
      "  \u001b[31m╰─>\u001b[0m \u001b[31m[15 lines of output]\u001b[0m\n",
      "  \u001b[31m   \u001b[0m The 'sklearn' PyPI package is deprecated, use 'scikit-learn'\n",
      "  \u001b[31m   \u001b[0m rather than 'sklearn' for pip commands.\n",
      "  \u001b[31m   \u001b[0m \n",
      "  \u001b[31m   \u001b[0m Here is how to fix this error in the main use cases:\n",
      "  \u001b[31m   \u001b[0m - use 'pip install scikit-learn' rather than 'pip install sklearn'\n",
      "  \u001b[31m   \u001b[0m - replace 'sklearn' by 'scikit-learn' in your pip requirements files\n",
      "  \u001b[31m   \u001b[0m   (requirements.txt, setup.py, setup.cfg, Pipfile, etc ...)\n",
      "  \u001b[31m   \u001b[0m - if the 'sklearn' package is used by one of your dependencies,\n",
      "  \u001b[31m   \u001b[0m   it would be great if you take some time to track which package uses\n",
      "  \u001b[31m   \u001b[0m   'sklearn' instead of 'scikit-learn' and report it to their issue tracker\n",
      "  \u001b[31m   \u001b[0m - as a last resort, set the environment variable\n",
      "  \u001b[31m   \u001b[0m   SKLEARN_ALLOW_DEPRECATED_SKLEARN_PACKAGE_INSTALL=True to avoid this error\n",
      "  \u001b[31m   \u001b[0m \n",
      "  \u001b[31m   \u001b[0m More information is available at\n",
      "  \u001b[31m   \u001b[0m https://github.com/scikit-learn/sklearn-pypi-package\n",
      "  \u001b[31m   \u001b[0m \u001b[31m[end of output]\u001b[0m\n",
      "  \n",
      "  \u001b[1;35mnote\u001b[0m: This error originates from a subprocess, and is likely not a problem with pip.\n",
      "\u001b[?25h\u001b[1;31merror\u001b[0m: \u001b[1mmetadata-generation-failed\u001b[0m\n",
      "\n",
      "\u001b[31m×\u001b[0m Encountered error while generating package metadata.\n",
      "\u001b[31m╰─>\u001b[0m See above for output.\n",
      "\n",
      "\u001b[1;35mnote\u001b[0m: This is an issue with the package mentioned above, not pip.\n",
      "\u001b[1;36mhint\u001b[0m: See above for details.\n",
      "Note: you may need to restart the kernel to use updated packages.\n"
     ]
    }
   ],
   "source": [
    "pip install smclarify==0.1"
   ]
  },
  {
   "cell_type": "code",
   "execution_count": 8,
   "metadata": {},
   "outputs": [
    {
     "name": "stdout",
     "output_type": "stream",
     "text": [
      "Collecting smclarify\n",
      "  Downloading smclarify-0.5-py3-none-any.whl.metadata (3.3 kB)\n",
      "Requirement already satisfied: boto3 in /home/sagemaker-user/.conda/envs/data_science_on_aws/lib/python3.7/site-packages (from smclarify) (1.33.13)\n",
      "Requirement already satisfied: pyarrow in /home/sagemaker-user/.conda/envs/data_science_on_aws/lib/python3.7/site-packages (from smclarify) (6.0.1)\n",
      "Requirement already satisfied: pandas in /home/sagemaker-user/.conda/envs/data_science_on_aws/lib/python3.7/site-packages (from smclarify) (1.3.5)\n",
      "Collecting s3fs (from smclarify)\n",
      "  Using cached s3fs-2023.1.0-py3-none-any.whl (27 kB)\n",
      "Requirement already satisfied: numpy in /home/sagemaker-user/.conda/envs/data_science_on_aws/lib/python3.7/site-packages (from smclarify) (1.18.5)\n",
      "Requirement already satisfied: scikit-learn in /home/sagemaker-user/.conda/envs/data_science_on_aws/lib/python3.7/site-packages (from smclarify) (1.0.2)\n",
      "Collecting pyfunctional (from smclarify)\n",
      "  Downloading PyFunctional-1.4.3-py3-none-any.whl (49 kB)\n",
      "\u001b[2K     \u001b[90m━━━━━━━━━━━━━━━━━━━━━━━━━━━━━━━━━━━━━━━━\u001b[0m \u001b[32m49.5/49.5 kB\u001b[0m \u001b[31m8.0 MB/s\u001b[0m eta \u001b[36m0:00:00\u001b[0m\n",
      "\u001b[?25hRequirement already satisfied: botocore<1.34.0,>=1.33.13 in /home/sagemaker-user/.conda/envs/data_science_on_aws/lib/python3.7/site-packages (from boto3->smclarify) (1.33.13)\n",
      "Requirement already satisfied: jmespath<2.0.0,>=0.7.1 in /home/sagemaker-user/.conda/envs/data_science_on_aws/lib/python3.7/site-packages (from boto3->smclarify) (0.10.0)\n",
      "Requirement already satisfied: s3transfer<0.9.0,>=0.8.2 in /home/sagemaker-user/.conda/envs/data_science_on_aws/lib/python3.7/site-packages (from boto3->smclarify) (0.8.2)\n",
      "Requirement already satisfied: python-dateutil>=2.7.3 in /home/sagemaker-user/.conda/envs/data_science_on_aws/lib/python3.7/site-packages (from pandas->smclarify) (2.8.2)\n",
      "Requirement already satisfied: pytz>=2017.3 in /home/sagemaker-user/.conda/envs/data_science_on_aws/lib/python3.7/site-packages (from pandas->smclarify) (2024.1)\n",
      "Collecting dill>=0.2.5 (from pyfunctional->smclarify)\n",
      "  Downloading dill-0.3.7-py3-none-any.whl.metadata (9.9 kB)\n",
      "Collecting tabulate<=1.0.0 (from pyfunctional->smclarify)\n",
      "  Downloading tabulate-0.9.0-py3-none-any.whl (35 kB)\n",
      "Collecting aiobotocore~=2.4.2 (from s3fs->smclarify)\n",
      "  Downloading aiobotocore-2.4.2-py3-none-any.whl (66 kB)\n",
      "\u001b[2K     \u001b[90m━━━━━━━━━━━━━━━━━━━━━━━━━━━━━━━━━━━━━━━━\u001b[0m \u001b[32m66.8/66.8 kB\u001b[0m \u001b[31m11.8 MB/s\u001b[0m eta \u001b[36m0:00:00\u001b[0m\n",
      "\u001b[?25hCollecting fsspec==2023.1.0 (from s3fs->smclarify)\n",
      "  Downloading fsspec-2023.1.0-py3-none-any.whl (143 kB)\n",
      "\u001b[2K     \u001b[90m━━━━━━━━━━━━━━━━━━━━━━━━━━━━━━━━━━━━━━\u001b[0m \u001b[32m143.0/143.0 kB\u001b[0m \u001b[31m17.6 MB/s\u001b[0m eta \u001b[36m0:00:00\u001b[0m\n",
      "\u001b[?25hCollecting aiohttp!=4.0.0a0,!=4.0.0a1 (from s3fs->smclarify)\n",
      "  Downloading aiohttp-3.8.6-cp37-cp37m-manylinux_2_17_x86_64.manylinux2014_x86_64.whl.metadata (7.7 kB)\n",
      "Requirement already satisfied: scipy>=1.1.0 in /home/sagemaker-user/.conda/envs/data_science_on_aws/lib/python3.7/site-packages (from scikit-learn->smclarify) (1.7.3)\n",
      "Requirement already satisfied: joblib>=0.11 in /home/sagemaker-user/.conda/envs/data_science_on_aws/lib/python3.7/site-packages (from scikit-learn->smclarify) (1.3.2)\n",
      "Requirement already satisfied: threadpoolctl>=2.0.0 in /home/sagemaker-user/.conda/envs/data_science_on_aws/lib/python3.7/site-packages (from scikit-learn->smclarify) (3.1.0)\n",
      "INFO: pip is looking at multiple versions of aiobotocore to determine which version is compatible with other requirements. This could take a while.\n",
      "Collecting s3fs (from smclarify)\n",
      "  Downloading s3fs-2022.11.0-py3-none-any.whl (27 kB)\n",
      "Requirement already satisfied: urllib3<1.27,>=1.25.4 in /home/sagemaker-user/.conda/envs/data_science_on_aws/lib/python3.7/site-packages (from botocore<1.34.0,>=1.33.13->boto3->smclarify) (1.26.18)\n",
      "Collecting fsspec==2022.11.0 (from s3fs->smclarify)\n",
      "  Downloading fsspec-2022.11.0-py3-none-any.whl (139 kB)\n",
      "\u001b[2K     \u001b[90m━━━━━━━━━━━━━━━━━━━━━━━━━━━━━━━━━━━━━━\u001b[0m \u001b[32m139.5/139.5 kB\u001b[0m \u001b[31m13.3 MB/s\u001b[0m eta \u001b[36m0:00:00\u001b[0m\n",
      "\u001b[?25hCollecting aiobotocore~=2.4.0 (from s3fs->smclarify)\n",
      "  Downloading aiobotocore-2.4.1-py3-none-any.whl (66 kB)\n",
      "\u001b[2K     \u001b[90m━━━━━━━━━━━━━━━━━━━━━━━━━━━━━━━━━━━━━━━━\u001b[0m \u001b[32m66.8/66.8 kB\u001b[0m \u001b[31m11.1 MB/s\u001b[0m eta \u001b[36m0:00:00\u001b[0m\n",
      "\u001b[?25h  Downloading aiobotocore-2.4.0-py3-none-any.whl (65 kB)\n",
      "\u001b[2K     \u001b[90m━━━━━━━━━━━━━━━━━━━━━━━━━━━━━━━━━━━━━━━━\u001b[0m \u001b[32m65.8/65.8 kB\u001b[0m \u001b[31m10.6 MB/s\u001b[0m eta \u001b[36m0:00:00\u001b[0m\n",
      "\u001b[?25hCollecting s3fs (from smclarify)\n",
      "  Downloading s3fs-2022.10.0-py3-none-any.whl (27 kB)\n",
      "Collecting fsspec==2022.10.0 (from s3fs->smclarify)\n",
      "  Downloading fsspec-2022.10.0-py3-none-any.whl (138 kB)\n",
      "\u001b[2K     \u001b[90m━━━━━━━━━━━━━━━━━━━━━━━━━━━━━━━━━━━━━━━\u001b[0m \u001b[32m138.8/138.8 kB\u001b[0m \u001b[31m8.9 MB/s\u001b[0m eta \u001b[36m0:00:00\u001b[0m\n",
      "\u001b[?25hCollecting s3fs (from smclarify)\n",
      "  Downloading s3fs-2022.8.2-py3-none-any.whl (27 kB)\n",
      "Collecting fsspec==2022.8.2 (from s3fs->smclarify)\n",
      "  Downloading fsspec-2022.8.2-py3-none-any.whl (140 kB)\n",
      "\u001b[2K     \u001b[90m━━━━━━━━━━━━━━━━━━━━━━━━━━━━━━━━━━━━━━\u001b[0m \u001b[32m140.8/140.8 kB\u001b[0m \u001b[31m26.0 MB/s\u001b[0m eta \u001b[36m0:00:00\u001b[0m\n",
      "\u001b[?25hINFO: pip is still looking at multiple versions of aiobotocore to determine which version is compatible with other requirements. This could take a while.\n",
      "Collecting s3fs (from smclarify)\n",
      "  Downloading s3fs-2022.8.1-py3-none-any.whl (27 kB)\n",
      "Collecting fsspec==2022.8.1 (from s3fs->smclarify)\n",
      "  Downloading fsspec-2022.8.1-py3-none-any.whl (140 kB)\n",
      "\u001b[2K     \u001b[90m━━━━━━━━━━━━━━━━━━━━━━━━━━━━━━━━━━━━━━\u001b[0m \u001b[32m140.8/140.8 kB\u001b[0m \u001b[31m21.0 MB/s\u001b[0m eta \u001b[36m0:00:00\u001b[0m\n",
      "\u001b[?25hINFO: This is taking longer than usual. You might need to provide the dependency resolver with stricter constraints to reduce runtime. See https://pip.pypa.io/warnings/backtracking for guidance. If you want to abort this run, press Ctrl + C.\n",
      "Collecting s3fs (from smclarify)\n",
      "  Downloading s3fs-2022.8.0-py3-none-any.whl (27 kB)\n",
      "Collecting fsspec==2022.8.0 (from s3fs->smclarify)\n",
      "  Downloading fsspec-2022.8.0-py3-none-any.whl (140 kB)\n",
      "\u001b[2K     \u001b[90m━━━━━━━━━━━━━━━━━━━━━━━━━━━━━━━━━━━━━━\u001b[0m \u001b[32m141.0/141.0 kB\u001b[0m \u001b[31m23.8 MB/s\u001b[0m eta \u001b[36m0:00:00\u001b[0m\n",
      "\u001b[?25hCollecting s3fs (from smclarify)\n",
      "  Downloading s3fs-2022.7.1-py3-none-any.whl (27 kB)\n",
      "Collecting aiobotocore~=2.3.4 (from s3fs->smclarify)\n",
      "  Downloading aiobotocore-2.3.4-py3-none-any.whl (64 kB)\n",
      "\u001b[2K     \u001b[90m━━━━━━━━━━━━━━━━━━━━━━━━━━━━━━━━━━━━━━━━\u001b[0m \u001b[32m64.7/64.7 kB\u001b[0m \u001b[31m11.5 MB/s\u001b[0m eta \u001b[36m0:00:00\u001b[0m\n",
      "\u001b[?25hCollecting fsspec==2022.7.1 (from s3fs->smclarify)\n",
      "  Downloading fsspec-2022.7.1-py3-none-any.whl (141 kB)\n",
      "\u001b[2K     \u001b[90m━━━━━━━━━━━━━━━━━━━━━━━━━━━━━━━━━━━━━━\u001b[0m \u001b[32m141.2/141.2 kB\u001b[0m \u001b[31m22.2 MB/s\u001b[0m eta \u001b[36m0:00:00\u001b[0m\n",
      "\u001b[?25hCollecting s3fs (from smclarify)\n",
      "  Downloading s3fs-2022.7.0-py3-none-any.whl (27 kB)\n",
      "Collecting fsspec==2022.7.0 (from s3fs->smclarify)\n",
      "  Downloading fsspec-2022.7.0-py3-none-any.whl (141 kB)\n",
      "\u001b[2K     \u001b[90m━━━━━━━━━━━━━━━━━━━━━━━━━━━━━━━━━━━━━━\u001b[0m \u001b[32m141.2/141.2 kB\u001b[0m \u001b[31m22.3 MB/s\u001b[0m eta \u001b[36m0:00:00\u001b[0m\n",
      "\u001b[?25hCollecting s3fs (from smclarify)\n",
      "  Downloading s3fs-2022.5.0-py3-none-any.whl (27 kB)\n",
      "Collecting fsspec==2022.5.0 (from s3fs->smclarify)\n",
      "  Downloading fsspec-2022.5.0-py3-none-any.whl (140 kB)\n",
      "\u001b[2K     \u001b[90m━━━━━━━━━━━━━━━━━━━━━━━━━━━━━━━━━━━━━━\u001b[0m \u001b[32m140.6/140.6 kB\u001b[0m \u001b[31m20.2 MB/s\u001b[0m eta \u001b[36m0:00:00\u001b[0m\n",
      "\u001b[?25hCollecting aiobotocore~=2.3.0 (from s3fs->smclarify)\n",
      "  Downloading aiobotocore-2.3.3.tar.gz (65 kB)\n",
      "\u001b[2K     \u001b[90m━━━━━━━━━━━━━━━━━━━━━━━━━━━━━━━━━━━━━━━━\u001b[0m \u001b[32m65.7/65.7 kB\u001b[0m \u001b[31m9.7 MB/s\u001b[0m eta \u001b[36m0:00:00\u001b[0m\n",
      "\u001b[?25h  Preparing metadata (setup.py) ... \u001b[?25ldone\n",
      "\u001b[?25h  Downloading aiobotocore-2.3.2.tar.gz (104 kB)\n",
      "\u001b[2K     \u001b[90m━━━━━━━━━━━━━━━━━━━━━━━━━━━━━━━━━━━━━━\u001b[0m \u001b[32m104.8/104.8 kB\u001b[0m \u001b[31m16.1 MB/s\u001b[0m eta \u001b[36m0:00:00\u001b[0m\n",
      "\u001b[?25h  Preparing metadata (setup.py) ... \u001b[?25ldone\n",
      "\u001b[?25h  Downloading aiobotocore-2.3.1.tar.gz (65 kB)\n",
      "\u001b[2K     \u001b[90m━━━━━━━━━━━━━━━━━━━━━━━━━━━━━━━━━━━━━━━━\u001b[0m \u001b[32m65.3/65.3 kB\u001b[0m \u001b[31m11.0 MB/s\u001b[0m eta \u001b[36m0:00:00\u001b[0m\n",
      "\u001b[?25h  Preparing metadata (setup.py) ... \u001b[?25ldone\n",
      "\u001b[?25h  Downloading aiobotocore-2.3.0.tar.gz (65 kB)\n",
      "\u001b[2K     \u001b[90m━━━━━━━━━━━━━━━━━━━━━━━━━━━━━━━━━━━━━━━━\u001b[0m \u001b[32m65.1/65.1 kB\u001b[0m \u001b[31m9.3 MB/s\u001b[0m eta \u001b[36m0:00:00\u001b[0m\n",
      "\u001b[?25h  Preparing metadata (setup.py) ... \u001b[?25ldone\n",
      "\u001b[?25hCollecting s3fs (from smclarify)\n",
      "  Downloading s3fs-2022.3.0-py3-none-any.whl (26 kB)\n",
      "Collecting aiobotocore~=2.2.0 (from s3fs->smclarify)\n",
      "  Downloading aiobotocore-2.2.0.tar.gz (59 kB)\n",
      "\u001b[2K     \u001b[90m━━━━━━━━━━━━━━━━━━━━━━━━━━━━━━━━━━━━━━━━\u001b[0m \u001b[32m59.7/59.7 kB\u001b[0m \u001b[31m10.1 MB/s\u001b[0m eta \u001b[36m0:00:00\u001b[0m\n",
      "\u001b[?25h  Preparing metadata (setup.py) ... \u001b[?25ldone\n",
      "\u001b[?25hCollecting fsspec==2022.3.0 (from s3fs->smclarify)\n",
      "  Downloading fsspec-2022.3.0-py3-none-any.whl (136 kB)\n",
      "\u001b[2K     \u001b[90m━━━━━━━━━━━━━━━━━━━━━━━━━━━━━━━━━━━━━━\u001b[0m \u001b[32m136.1/136.1 kB\u001b[0m \u001b[31m21.9 MB/s\u001b[0m eta \u001b[36m0:00:00\u001b[0m\n",
      "\u001b[?25hCollecting s3fs (from smclarify)\n",
      "  Downloading s3fs-2022.2.0-py3-none-any.whl (26 kB)\n",
      "Collecting aiobotocore~=2.1.0 (from s3fs->smclarify)\n",
      "  Downloading aiobotocore-2.1.2-py3-none-any.whl.metadata (18 kB)\n",
      "Collecting fsspec==2022.02.0 (from s3fs->smclarify)\n",
      "  Downloading fsspec-2022.2.0-py3-none-any.whl (134 kB)\n",
      "\u001b[2K     \u001b[90m━━━━━━━━━━━━━━━━━━━━━━━━━━━━━━━━━━━━━━\u001b[0m \u001b[32m134.9/134.9 kB\u001b[0m \u001b[31m14.3 MB/s\u001b[0m eta \u001b[36m0:00:00\u001b[0m\n",
      "\u001b[?25hCollecting aiobotocore~=2.1.0 (from s3fs->smclarify)\n",
      "  Downloading aiobotocore-2.1.1.tar.gz (57 kB)\n",
      "\u001b[2K     \u001b[90m━━━━━━━━━━━━━━━━━━━━━━━━━━━━━━━━━━━━━━━━\u001b[0m \u001b[32m57.5/57.5 kB\u001b[0m \u001b[31m9.9 MB/s\u001b[0m eta \u001b[36m0:00:00\u001b[0m\n",
      "\u001b[?25h  Preparing metadata (setup.py) ... \u001b[?25ldone\n",
      "\u001b[?25h  Downloading aiobotocore-2.1.0.tar.gz (54 kB)\n",
      "\u001b[2K     \u001b[90m━━━━━━━━━━━━━━━━━━━━━━━━━━━━━━━━━━━━━━━━\u001b[0m \u001b[32m54.6/54.6 kB\u001b[0m \u001b[31m8.4 MB/s\u001b[0m eta \u001b[36m0:00:00\u001b[0m\n",
      "\u001b[?25h  Preparing metadata (setup.py) ... \u001b[?25ldone\n",
      "\u001b[?25hCollecting s3fs (from smclarify)\n",
      "  Downloading s3fs-2022.1.0-py3-none-any.whl (25 kB)\n",
      "Collecting fsspec==2022.01.0 (from s3fs->smclarify)\n",
      "  Downloading fsspec-2022.1.0-py3-none-any.whl (133 kB)\n",
      "\u001b[2K     \u001b[90m━━━━━━━━━━━━━━━━━━━━━━━━━━━━━━━━━━━━━━\u001b[0m \u001b[32m133.2/133.2 kB\u001b[0m \u001b[31m16.4 MB/s\u001b[0m eta \u001b[36m0:00:00\u001b[0m\n",
      "\u001b[?25hCollecting s3fs (from smclarify)\n",
      "  Downloading s3fs-2021.11.1-py3-none-any.whl (25 kB)\n",
      "Collecting aiobotocore~=2.0.1 (from s3fs->smclarify)\n",
      "  Downloading aiobotocore-2.0.1.tar.gz (54 kB)\n",
      "\u001b[2K     \u001b[90m━━━━━━━━━━━━━━━━━━━━━━━━━━━━━━━━━━━━━━━━\u001b[0m \u001b[32m54.5/54.5 kB\u001b[0m \u001b[31m8.4 MB/s\u001b[0m eta \u001b[36m0:00:00\u001b[0m\n",
      "\u001b[?25h  Preparing metadata (setup.py) ... \u001b[?25ldone\n",
      "\u001b[?25hCollecting fsspec==2021.11.1 (from s3fs->smclarify)\n",
      "  Downloading fsspec-2021.11.1-py3-none-any.whl (132 kB)\n",
      "\u001b[2K     \u001b[90m━━━━━━━━━━━━━━━━━━━━━━━━━━━━━━━━━━━━━━\u001b[0m \u001b[32m133.0/133.0 kB\u001b[0m \u001b[31m16.9 MB/s\u001b[0m eta \u001b[36m0:00:00\u001b[0m\n",
      "\u001b[?25hCollecting s3fs (from smclarify)\n",
      "  Downloading s3fs-2021.11.0-py3-none-any.whl (25 kB)\n",
      "Collecting aiobotocore~=1.4.1 (from s3fs->smclarify)\n",
      "  Downloading aiobotocore-1.4.2.tar.gz (52 kB)\n",
      "\u001b[2K     \u001b[90m━━━━━━━━━━━━━━━━━━━━━━━━━━━━━━━━━━━━━━━━\u001b[0m \u001b[32m52.5/52.5 kB\u001b[0m \u001b[31m9.2 MB/s\u001b[0m eta \u001b[36m0:00:00\u001b[0m\n",
      "\u001b[?25h  Preparing metadata (setup.py) ... \u001b[?25ldone\n",
      "\u001b[?25hCollecting fsspec==2021.11.0 (from s3fs->smclarify)\n",
      "  Downloading fsspec-2021.11.0-py3-none-any.whl (132 kB)\n",
      "\u001b[2K     \u001b[90m━━━━━━━━━━━━━━━━━━━━━━━━━━━━━━━━━━━━━━\u001b[0m \u001b[32m132.4/132.4 kB\u001b[0m \u001b[31m20.8 MB/s\u001b[0m eta \u001b[36m0:00:00\u001b[0m\n",
      "\u001b[?25hCollecting aiobotocore~=1.4.1 (from s3fs->smclarify)\n",
      "  Downloading aiobotocore-1.4.1.tar.gz (52 kB)\n",
      "\u001b[2K     \u001b[90m━━━━━━━━━━━━━━━━━━━━━━━━━━━━━━━━━━━━━━━━\u001b[0m \u001b[32m52.3/52.3 kB\u001b[0m \u001b[31m2.9 MB/s\u001b[0m eta \u001b[36m0:00:00\u001b[0m\n",
      "\u001b[?25h  Preparing metadata (setup.py) ... \u001b[?25ldone\n",
      "\u001b[?25hCollecting s3fs (from smclarify)\n",
      "  Downloading s3fs-2021.10.1-py3-none-any.whl (26 kB)\n",
      "Collecting fsspec==2021.10.1 (from s3fs->smclarify)\n",
      "  Downloading fsspec-2021.10.1-py3-none-any.whl (125 kB)\n",
      "\u001b[2K     \u001b[90m━━━━━━━━━━━━━━━━━━━━━━━━━━━━━━━━━━━━━━\u001b[0m \u001b[32m125.6/125.6 kB\u001b[0m \u001b[31m19.5 MB/s\u001b[0m eta \u001b[36m0:00:00\u001b[0m\n",
      "\u001b[?25hCollecting s3fs (from smclarify)\n",
      "  Downloading s3fs-2021.10.0-py3-none-any.whl (26 kB)\n",
      "Collecting fsspec==2021.10.0 (from s3fs->smclarify)\n",
      "  Downloading fsspec-2021.10.0-py3-none-any.whl (125 kB)\n",
      "\u001b[2K     \u001b[90m━━━━━━━━━━━━━━━━━━━━━━━━━━━━━━━━━━━━━━\u001b[0m \u001b[32m125.0/125.0 kB\u001b[0m \u001b[31m17.3 MB/s\u001b[0m eta \u001b[36m0:00:00\u001b[0m\n",
      "\u001b[?25hCollecting s3fs (from smclarify)\n",
      "  Downloading s3fs-2021.9.0-py3-none-any.whl (26 kB)\n",
      "Collecting fsspec==2021.09.0 (from s3fs->smclarify)\n",
      "  Downloading fsspec-2021.9.0-py3-none-any.whl (123 kB)\n",
      "\u001b[2K     \u001b[90m━━━━━━━━━━━━━━━━━━━━━━━━━━━━━━━━━━━━━━\u001b[0m \u001b[32m123.6/123.6 kB\u001b[0m \u001b[31m20.6 MB/s\u001b[0m eta \u001b[36m0:00:00\u001b[0m\n",
      "\u001b[?25hCollecting s3fs (from smclarify)\n",
      "  Downloading s3fs-2021.8.1-py3-none-any.whl (26 kB)\n",
      "Collecting fsspec==2021.08.1 (from s3fs->smclarify)\n",
      "  Downloading fsspec-2021.8.1-py3-none-any.whl (119 kB)\n",
      "\u001b[2K     \u001b[90m━━━━━━━━━━━━━━━━━━━━━━━━━━━━━━━━━━━━━━\u001b[0m \u001b[32m119.3/119.3 kB\u001b[0m \u001b[31m16.8 MB/s\u001b[0m eta \u001b[36m0:00:00\u001b[0m\n",
      "\u001b[?25hCollecting aiobotocore~=1.4.0 (from s3fs->smclarify)\n",
      "  Downloading aiobotocore-1.4.0.tar.gz (51 kB)\n",
      "\u001b[2K     \u001b[90m━━━━━━━━━━━━━━━━━━━━━━━━━━━━━━━━━━━━━━━━\u001b[0m \u001b[32m51.6/51.6 kB\u001b[0m \u001b[31m7.4 MB/s\u001b[0m eta \u001b[36m0:00:00\u001b[0m\n",
      "\u001b[?25h  Preparing metadata (setup.py) ... \u001b[?25ldone\n",
      "\u001b[?25hCollecting s3fs (from smclarify)\n",
      "  Downloading s3fs-2021.8.0-py3-none-any.whl (26 kB)\n",
      "Collecting fsspec==2021.07.0 (from s3fs->smclarify)\n",
      "  Downloading fsspec-2021.7.0-py3-none-any.whl (118 kB)\n",
      "\u001b[2K     \u001b[90m━━━━━━━━━━━━━━━━━━━━━━━━━━━━━━━━━━━━━━\u001b[0m \u001b[32m118.1/118.1 kB\u001b[0m \u001b[31m19.7 MB/s\u001b[0m eta \u001b[36m0:00:00\u001b[0m\n",
      "\u001b[?25hCollecting s3fs (from smclarify)\n",
      "  Downloading s3fs-2021.7.0-py3-none-any.whl (25 kB)\n",
      "Collecting aiobotocore>=1.0.1 (from s3fs->smclarify)\n",
      "  Downloading aiobotocore-2.6.0-py3-none-any.whl.metadata (19 kB)\n",
      "  Downloading aiobotocore-2.5.4-py3-none-any.whl.metadata (19 kB)\n",
      "  Downloading aiobotocore-2.5.3-py3-none-any.whl.metadata (19 kB)\n",
      "  Downloading aiobotocore-2.5.2-py3-none-any.whl.metadata (19 kB)\n",
      "  Downloading aiobotocore-2.5.1-py3-none-any.whl.metadata (19 kB)\n",
      "  Downloading aiobotocore-2.5.0-py3-none-any.whl.metadata (19 kB)\n",
      "  Downloading aiobotocore-2.0.0.tar.gz (52 kB)\n",
      "\u001b[2K     \u001b[90m━━━━━━━━━━━━━━━━━━━━━━━━━━━━━━━━━━━━━━━━\u001b[0m \u001b[32m53.0/53.0 kB\u001b[0m \u001b[31m8.4 MB/s\u001b[0m eta \u001b[36m0:00:00\u001b[0m\n",
      "\u001b[?25h  Preparing metadata (setup.py) ... \u001b[?25ldone\n",
      "\u001b[?25h  Downloading aiobotocore-1.3.3.tar.gz (50 kB)\n",
      "\u001b[2K     \u001b[90m━━━━━━━━━━━━━━━━━━━━━━━━━━━━━━━━━━━━━━━━\u001b[0m \u001b[32m50.6/50.6 kB\u001b[0m \u001b[31m7.7 MB/s\u001b[0m eta \u001b[36m0:00:00\u001b[0m\n",
      "\u001b[?25h  Preparing metadata (setup.py) ... \u001b[?25ldone\n",
      "\u001b[?25h  Downloading aiobotocore-1.3.2.tar.gz (49 kB)\n",
      "\u001b[2K     \u001b[90m━━━━━━━━━━━━━━━━━━━━━━━━━━━━━━━━━━━━━━━━\u001b[0m \u001b[32m49.1/49.1 kB\u001b[0m \u001b[31m7.5 MB/s\u001b[0m eta \u001b[36m0:00:00\u001b[0m\n",
      "\u001b[?25h  Preparing metadata (setup.py) ... \u001b[?25ldone\n",
      "\u001b[?25h  Downloading aiobotocore-1.3.1.tar.gz (48 kB)\n",
      "\u001b[2K     \u001b[90m━━━━━━━━━━━━━━━━━━━━━━━━━━━━━━━━━━━━━━━━\u001b[0m \u001b[32m48.8/48.8 kB\u001b[0m \u001b[31m7.7 MB/s\u001b[0m eta \u001b[36m0:00:00\u001b[0m\n",
      "\u001b[?25h  Preparing metadata (setup.py) ... \u001b[?25ldone\n",
      "\u001b[?25h  Downloading aiobotocore-1.3.0.tar.gz (48 kB)\n",
      "\u001b[2K     \u001b[90m━━━━━━━━━━━━━━━━━━━━━━━━━━━━━━━━━━━━━━━━\u001b[0m \u001b[32m48.2/48.2 kB\u001b[0m \u001b[31m6.4 MB/s\u001b[0m eta \u001b[36m0:00:00\u001b[0m\n",
      "\u001b[?25h  Preparing metadata (setup.py) ... \u001b[?25ldone\n",
      "\u001b[?25h  Downloading aiobotocore-1.2.2.tar.gz (48 kB)\n",
      "\u001b[2K     \u001b[90m━━━━━━━━━━━━━━━━━━━━━━━━━━━━━━━━━━━━━━━━\u001b[0m \u001b[32m48.1/48.1 kB\u001b[0m \u001b[31m8.0 MB/s\u001b[0m eta \u001b[36m0:00:00\u001b[0m\n",
      "\u001b[?25h  Preparing metadata (setup.py) ... \u001b[?25ldone\n",
      "\u001b[?25h  Downloading aiobotocore-1.2.1.tar.gz (48 kB)\n",
      "\u001b[2K     \u001b[90m━━━━━━━━━━━━━━━━━━━━━━━━━━━━━━━━━━━━━━━━\u001b[0m \u001b[32m48.0/48.0 kB\u001b[0m \u001b[31m2.9 MB/s\u001b[0m eta \u001b[36m0:00:00\u001b[0m\n",
      "\u001b[?25h  Preparing metadata (setup.py) ... \u001b[?25ldone\n",
      "\u001b[?25h  Downloading aiobotocore-1.2.0.tar.gz (47 kB)\n",
      "\u001b[2K     \u001b[90m━━━━━━━━━━━━━━━━━━━━━━━━━━━━━━━━━━━━━━━━\u001b[0m \u001b[32m47.3/47.3 kB\u001b[0m \u001b[31m6.3 MB/s\u001b[0m eta \u001b[36m0:00:00\u001b[0m\n",
      "\u001b[?25h  Preparing metadata (setup.py) ... \u001b[?25ldone\n",
      "\u001b[?25h  Downloading aiobotocore-1.1.2-py3-none-any.whl (45 kB)\n",
      "\u001b[2K     \u001b[90m━━━━━━━━━━━━━━━━━━━━━━━━━━━━━━━━━━━━━━━━\u001b[0m \u001b[32m45.1/45.1 kB\u001b[0m \u001b[31m6.3 MB/s\u001b[0m eta \u001b[36m0:00:00\u001b[0m\n",
      "\u001b[?25h  Downloading aiobotocore-1.1.1-py3-none-any.whl (45 kB)\n",
      "\u001b[2K     \u001b[90m━━━━━━━━━━━━━━━━━━━━━━━━━━━━━━━━━━━━━━━━\u001b[0m \u001b[32m45.0/45.0 kB\u001b[0m \u001b[31m6.9 MB/s\u001b[0m eta \u001b[36m0:00:00\u001b[0m\n",
      "\u001b[?25h  Downloading aiobotocore-1.1.0-py3-none-any.whl (43 kB)\n",
      "\u001b[2K     \u001b[90m━━━━━━━━━━━━━━━━━━━━━━━━━━━━━━━━━━━━━━━━\u001b[0m \u001b[32m43.7/43.7 kB\u001b[0m \u001b[31m6.7 MB/s\u001b[0m eta \u001b[36m0:00:00\u001b[0m\n",
      "\u001b[?25h  Downloading aiobotocore-1.0.7-py3-none-any.whl (42 kB)\n",
      "\u001b[2K     \u001b[90m━━━━━━━━━━━━━━━━━━━━━━━━━━━━━━━━━━━━━━━━\u001b[0m \u001b[32m42.9/42.9 kB\u001b[0m \u001b[31m6.1 MB/s\u001b[0m eta \u001b[36m0:00:00\u001b[0m\n",
      "\u001b[?25h  Downloading aiobotocore-1.0.6-py3-none-any.whl (42 kB)\n",
      "\u001b[2K     \u001b[90m━━━━━━━━━━━━━━━━━━━━━━━━━━━━━━━━━━━━━━━━\u001b[0m \u001b[32m42.1/42.1 kB\u001b[0m \u001b[31m5.9 MB/s\u001b[0m eta \u001b[36m0:00:00\u001b[0m\n",
      "\u001b[?25h  Downloading aiobotocore-1.0.5-py3-none-any.whl (42 kB)\n",
      "\u001b[2K     \u001b[90m━━━━━━━━━━━━━━━━━━━━━━━━━━━━━━━━━━━━━━━━\u001b[0m \u001b[32m42.1/42.1 kB\u001b[0m \u001b[31m5.6 MB/s\u001b[0m eta \u001b[36m0:00:00\u001b[0m\n",
      "\u001b[?25h  Downloading aiobotocore-1.0.4-py3-none-any.whl (41 kB)\n",
      "\u001b[2K     \u001b[90m━━━━━━━━━━━━━━━━━━━━━━━━━━━━━━━━━━━━━━━━\u001b[0m \u001b[32m41.6/41.6 kB\u001b[0m \u001b[31m6.4 MB/s\u001b[0m eta \u001b[36m0:00:00\u001b[0m\n",
      "\u001b[?25h  Downloading aiobotocore-1.0.3-py3-none-any.whl (40 kB)\n",
      "\u001b[2K     \u001b[90m━━━━━━━━━━━━━━━━━━━━━━━━━━━━━━━━━━━━━━━━\u001b[0m \u001b[32m40.8/40.8 kB\u001b[0m \u001b[31m6.6 MB/s\u001b[0m eta \u001b[36m0:00:00\u001b[0m\n",
      "\u001b[?25h  Downloading aiobotocore-1.0.2-py3-none-any.whl (40 kB)\n",
      "\u001b[2K     \u001b[90m━━━━━━━━━━━━━━━━━━━━━━━━━━━━━━━━━━━━━━━━\u001b[0m \u001b[32m40.8/40.8 kB\u001b[0m \u001b[31m6.1 MB/s\u001b[0m eta \u001b[36m0:00:00\u001b[0m\n",
      "\u001b[?25h  Downloading aiobotocore-1.0.1-py3-none-any.whl (40 kB)\n",
      "\u001b[2K     \u001b[90m━━━━━━━━━━━━━━━━━━━━━━━━━━━━━━━━━━━━━━━━\u001b[0m \u001b[32m40.7/40.7 kB\u001b[0m \u001b[31m6.2 MB/s\u001b[0m eta \u001b[36m0:00:00\u001b[0m\n",
      "\u001b[?25hCollecting s3fs (from smclarify)\n",
      "  Downloading s3fs-2021.6.1-py3-none-any.whl (25 kB)\n",
      "Collecting fsspec==2021.06.1 (from s3fs->smclarify)\n",
      "  Downloading fsspec-2021.6.1-py3-none-any.whl (115 kB)\n",
      "\u001b[2K     \u001b[90m━━━━━━━━━━━━━━━━━━━━━━━━━━━━━━━━━━━━━━\u001b[0m \u001b[32m115.1/115.1 kB\u001b[0m \u001b[31m19.5 MB/s\u001b[0m eta \u001b[36m0:00:00\u001b[0m\n",
      "\u001b[?25hCollecting s3fs (from smclarify)\n",
      "  Downloading s3fs-2021.6.0-py3-none-any.whl (24 kB)\n",
      "Collecting fsspec==2021.06.0 (from s3fs->smclarify)\n",
      "  Downloading fsspec-2021.6.0-py3-none-any.whl (114 kB)\n",
      "\u001b[2K     \u001b[90m━━━━━━━━━━━━━━━━━━━━━━━━━━━━━━━━━━━━━━\u001b[0m \u001b[32m114.7/114.7 kB\u001b[0m \u001b[31m17.6 MB/s\u001b[0m eta \u001b[36m0:00:00\u001b[0m\n",
      "\u001b[?25hCollecting s3fs (from smclarify)\n",
      "  Downloading s3fs-2021.5.0-py3-none-any.whl (24 kB)\n",
      "Collecting fsspec==2021.05.0 (from s3fs->smclarify)\n",
      "  Downloading fsspec-2021.5.0-py3-none-any.whl (111 kB)\n",
      "\u001b[2K     \u001b[90m━━━━━━━━━━━━━━━━━━━━━━━━━━━━━━━━━━━━━━\u001b[0m \u001b[32m111.7/111.7 kB\u001b[0m \u001b[31m17.6 MB/s\u001b[0m eta \u001b[36m0:00:00\u001b[0m\n",
      "\u001b[?25hCollecting s3fs (from smclarify)\n",
      "  Downloading s3fs-2021.4.0-py3-none-any.whl (23 kB)\n",
      "Collecting fsspec==2021.04.0 (from s3fs->smclarify)\n",
      "  Downloading fsspec-2021.4.0-py3-none-any.whl (108 kB)\n",
      "\u001b[2K     \u001b[90m━━━━━━━━━━━━━━━━━━━━━━━━━━━━━━━━━━━━━━\u001b[0m \u001b[32m108.3/108.3 kB\u001b[0m \u001b[31m17.8 MB/s\u001b[0m eta \u001b[36m0:00:00\u001b[0m\n",
      "\u001b[?25hCollecting s3fs (from smclarify)\n",
      "  Downloading s3fs-0.6.0-py3-none-any.whl (23 kB)\n",
      "  Downloading s3fs-0.5.2-py3-none-any.whl (22 kB)\n",
      "  Downloading s3fs-0.5.1-py3-none-any.whl (21 kB)\n",
      "  Downloading s3fs-0.5.0-py3-none-any.whl (21 kB)\n",
      "  Downloading s3fs-0.4.2-py3-none-any.whl (19 kB)\n",
      "Requirement already satisfied: six>=1.5 in /home/sagemaker-user/.conda/envs/data_science_on_aws/lib/python3.7/site-packages (from python-dateutil>=2.7.3->pandas->smclarify) (1.16.0)\n",
      "Downloading smclarify-0.5-py3-none-any.whl (30 kB)\n",
      "Downloading dill-0.3.7-py3-none-any.whl (115 kB)\n",
      "\u001b[2K   \u001b[90m━━━━━━━━━━━━━━━━━━━━━━━━━━━━━━━━━━━━━━━━\u001b[0m \u001b[32m115.3/115.3 kB\u001b[0m \u001b[31m16.6 MB/s\u001b[0m eta \u001b[36m0:00:00\u001b[0m\n",
      "\u001b[?25hInstalling collected packages: tabulate, fsspec, dill, pyfunctional, s3fs, smclarify\n",
      "Successfully installed dill-0.3.7 fsspec-2023.1.0 pyfunctional-1.4.3 s3fs-0.4.2 smclarify-0.5 tabulate-0.9.0\n"
     ]
    }
   ],
   "source": [
    "!pip install smclarify"
   ]
  },
  {
   "cell_type": "code",
   "execution_count": 3,
   "metadata": {
    "collapsed": false,
    "jupyter": {
     "outputs_hidden": false
    },
    "pycharm": {
     "name": "#%%\n"
    }
   },
   "outputs": [],
   "source": [
    "from smclarify.bias import report\n",
    "from typing import Dict\n",
    "from collections import defaultdict\n",
    "import pandas as pd\n",
    "import seaborn as sns"
   ]
  },
  {
   "cell_type": "markdown",
   "metadata": {},
   "source": [
    "# Read Dataset From S3"
   ]
  },
  {
   "cell_type": "code",
   "execution_count": 10,
   "metadata": {},
   "outputs": [],
   "source": [
    "%store -r bias_data_s3_uri"
   ]
  },
  {
   "cell_type": "code",
   "execution_count": 11,
   "metadata": {},
   "outputs": [
    {
     "name": "stdout",
     "output_type": "stream",
     "text": [
      "s3://sagemaker-eu-west-2-123137613716/bias-detection-1708207952/amazon_reviews_us_giftcards_software_videogames.csv\n"
     ]
    }
   ],
   "source": [
    "print(bias_data_s3_uri)"
   ]
  },
  {
   "cell_type": "code",
   "execution_count": 12,
   "metadata": {},
   "outputs": [],
   "source": [
    "%store -r balanced_bias_data_s3_uri"
   ]
  },
  {
   "cell_type": "code",
   "execution_count": 13,
   "metadata": {},
   "outputs": [
    {
     "name": "stdout",
     "output_type": "stream",
     "text": [
      "s3://sagemaker-eu-west-2-123137613716/bias-detection-1708207952/amazon_reviews_us_giftcards_software_videogames_balanced.csv\n"
     ]
    }
   ],
   "source": [
    "print(balanced_bias_data_s3_uri)"
   ]
  },
  {
   "cell_type": "code",
   "execution_count": 14,
   "metadata": {},
   "outputs": [
    {
     "name": "stdout",
     "output_type": "stream",
     "text": [
      "download: s3://sagemaker-eu-west-2-123137613716/bias-detection-1708207952/amazon_reviews_us_giftcards_software_videogames.csv to data-clarify/amazon_reviews_us_giftcards_software_videogames.csv\n"
     ]
    }
   ],
   "source": [
    "!aws s3 cp $bias_data_s3_uri ./data-clarify/"
   ]
  },
  {
   "cell_type": "code",
   "execution_count": 15,
   "metadata": {},
   "outputs": [
    {
     "name": "stdout",
     "output_type": "stream",
     "text": [
      "download: s3://sagemaker-eu-west-2-123137613716/bias-detection-1708207952/amazon_reviews_us_giftcards_software_videogames_balanced.csv to data-clarify/amazon_reviews_us_giftcards_software_videogames_balanced.csv\n"
     ]
    }
   ],
   "source": [
    "!aws s3 cp $balanced_bias_data_s3_uri ./data-clarify/"
   ]
  },
  {
   "cell_type": "markdown",
   "metadata": {},
   "source": [
    "# Analyze Unbalanced Data"
   ]
  },
  {
   "cell_type": "code",
   "execution_count": 4,
   "metadata": {},
   "outputs": [
    {
     "data": {
      "text/plain": [
       "(396601, 15)"
      ]
     },
     "execution_count": 4,
     "metadata": {},
     "output_type": "execute_result"
    }
   ],
   "source": [
    "df = pd.read_csv(\"./data-clarify/amazon_reviews_us_giftcards_software_videogames.csv\")\n",
    "df.shape"
   ]
  },
  {
   "cell_type": "code",
   "execution_count": 17,
   "metadata": {
    "collapsed": false,
    "jupyter": {
     "outputs_hidden": false
    },
    "pycharm": {
     "name": "#%%\n"
    }
   },
   "outputs": [
    {
     "data": {
      "text/plain": [
       "<matplotlib.axes._subplots.AxesSubplot at 0x7f36aee96d90>"
      ]
     },
     "execution_count": 17,
     "metadata": {},
     "output_type": "execute_result"
    },
    {
     "data": {
      "image/png": "[encoded data removed]",
      "text/plain": [
       "<Figure size 640x480 with 1 Axes>"
      ]
     },
     "metadata": {},
     "output_type": "display_data"
    }
   ],
   "source": [
    "sns.countplot(data=df, x=\"star_rating\", hue=\"product_category\")"
   ]
  },
  {
   "cell_type": "markdown",
   "metadata": {},
   "source": [
    "# Calculate Bias Metrics on Unbalanced Data"
   ]
  },
  {
   "cell_type": "markdown",
   "metadata": {},
   "source": [
    "## Define \n",
    "* Facet Column (= Product Category), \n",
    "* Label Column (= Star Rating), \n",
    "* Positive Label Value (= 5,4)"
   ]
  },
  {
   "cell_type": "markdown",
   "metadata": {},
   "source": [
    "#### Change to Series for Star Rating here "
   ]
  },
  {
   "cell_type": "code",
   "execution_count": 25,
   "metadata": {
    "collapsed": false,
    "jupyter": {
     "outputs_hidden": false
    },
    "pycharm": {
     "name": "#%%\n"
    }
   },
   "outputs": [],
   "source": [
    "facet_column = report.FacetColumn(name=\"product_category\")\n",
    "\n",
    "label_column = report.LabelColumn(\n",
    "    name=\"star_rating\", \n",
    "    series=df[\"star_rating\"], \n",
    "    positive_label_values=[5, 4]\n",
    ")"
   ]
  },
  {
   "cell_type": "markdown",
   "metadata": {},
   "source": [
    "## Run SageMaker Clarify Bias Report"
   ]
  },
  {
   "cell_type": "code",
   "execution_count": 24,
   "metadata": {},
   "outputs": [
    {
     "data": {
      "text/html": [
       "<div>\n",
       "<style scoped>\n",
       "    .dataframe tbody tr th:only-of-type {\n",
       "        vertical-align: middle;\n",
       "    }\n",
       "\n",
       "    .dataframe tbody tr th {\n",
       "        vertical-align: top;\n",
       "    }\n",
       "\n",
       "    .dataframe thead th {\n",
       "        text-align: right;\n",
       "    }\n",
       "</style>\n",
       "<table border=\"1\" class=\"dataframe\">\n",
       "  <thead>\n",
       "    <tr style=\"text-align: right;\">\n",
       "      <th></th>\n",
       "      <th>marketplace</th>\n",
       "      <th>customer_id</th>\n",
       "      <th>review_id</th>\n",
       "      <th>product_id</th>\n",
       "      <th>product_parent</th>\n",
       "      <th>product_title</th>\n",
       "      <th>product_category</th>\n",
       "      <th>star_rating</th>\n",
       "      <th>helpful_votes</th>\n",
       "      <th>total_votes</th>\n",
       "      <th>vine</th>\n",
       "      <th>verified_purchase</th>\n",
       "      <th>review_headline</th>\n",
       "      <th>review_body</th>\n",
       "      <th>review_date</th>\n",
       "    </tr>\n",
       "  </thead>\n",
       "  <tbody>\n",
       "    <tr>\n",
       "      <th>0</th>\n",
       "      <td>US</td>\n",
       "      <td>24371595</td>\n",
       "      <td>R27ZP1F1CD0C3Y</td>\n",
       "      <td>B004LLIL5A</td>\n",
       "      <td>346014806</td>\n",
       "      <td>Amazon eGift Card - Celebrate</td>\n",
       "      <td>Gift Card</td>\n",
       "      <td>5</td>\n",
       "      <td>0</td>\n",
       "      <td>0</td>\n",
       "      <td>N</td>\n",
       "      <td>Y</td>\n",
       "      <td>Five Stars</td>\n",
       "      <td>Great birthday gift for a young adult.</td>\n",
       "      <td>2015-08-31</td>\n",
       "    </tr>\n",
       "    <tr>\n",
       "      <th>1</th>\n",
       "      <td>US</td>\n",
       "      <td>42489718</td>\n",
       "      <td>RJ7RSBCHUDNNE</td>\n",
       "      <td>B004LLIKVU</td>\n",
       "      <td>473048287</td>\n",
       "      <td>Amazon.com eGift Cards</td>\n",
       "      <td>Gift Card</td>\n",
       "      <td>5</td>\n",
       "      <td>0</td>\n",
       "      <td>0</td>\n",
       "      <td>N</td>\n",
       "      <td>Y</td>\n",
       "      <td>Gift card for the greatest selection of items ...</td>\n",
       "      <td>It's an Amazon gift card and with over 9823983...</td>\n",
       "      <td>2015-08-31</td>\n",
       "    </tr>\n",
       "    <tr>\n",
       "      <th>2</th>\n",
       "      <td>US</td>\n",
       "      <td>861463</td>\n",
       "      <td>R1HVYBSKLQJI5S</td>\n",
       "      <td>B00IX1I3G6</td>\n",
       "      <td>926539283</td>\n",
       "      <td>Amazon.com Gift Card Balance Reload</td>\n",
       "      <td>Gift Card</td>\n",
       "      <td>5</td>\n",
       "      <td>0</td>\n",
       "      <td>0</td>\n",
       "      <td>N</td>\n",
       "      <td>Y</td>\n",
       "      <td>Five Stars</td>\n",
       "      <td>Good</td>\n",
       "      <td>2015-08-31</td>\n",
       "    </tr>\n",
       "    <tr>\n",
       "      <th>3</th>\n",
       "      <td>US</td>\n",
       "      <td>25283295</td>\n",
       "      <td>R2HAXF0IIYQBIR</td>\n",
       "      <td>B00IX1I3G6</td>\n",
       "      <td>926539283</td>\n",
       "      <td>Amazon.com Gift Card Balance Reload</td>\n",
       "      <td>Gift Card</td>\n",
       "      <td>1</td>\n",
       "      <td>0</td>\n",
       "      <td>0</td>\n",
       "      <td>N</td>\n",
       "      <td>Y</td>\n",
       "      <td>One Star</td>\n",
       "      <td>Fair</td>\n",
       "      <td>2015-08-31</td>\n",
       "    </tr>\n",
       "    <tr>\n",
       "      <th>4</th>\n",
       "      <td>US</td>\n",
       "      <td>397970</td>\n",
       "      <td>RNYLPX611NB7Q</td>\n",
       "      <td>B005ESMGV4</td>\n",
       "      <td>379368939</td>\n",
       "      <td>Amazon.com Gift Cards, Pack of 3 (Various Desi...</td>\n",
       "      <td>Gift Card</td>\n",
       "      <td>5</td>\n",
       "      <td>0</td>\n",
       "      <td>0</td>\n",
       "      <td>N</td>\n",
       "      <td>Y</td>\n",
       "      <td>Five Stars</td>\n",
       "      <td>I can't believe how quickly Amazon can get the...</td>\n",
       "      <td>2015-08-31</td>\n",
       "    </tr>\n",
       "  </tbody>\n",
       "</table>\n",
       "</div>"
      ],
      "text/plain": [
       "  marketplace  customer_id       review_id  product_id  product_parent  \\\n",
       "0          US     24371595  R27ZP1F1CD0C3Y  B004LLIL5A       346014806   \n",
       "1          US     42489718   RJ7RSBCHUDNNE  B004LLIKVU       473048287   \n",
       "2          US       861463  R1HVYBSKLQJI5S  B00IX1I3G6       926539283   \n",
       "3          US     25283295  R2HAXF0IIYQBIR  B00IX1I3G6       926539283   \n",
       "4          US       397970   RNYLPX611NB7Q  B005ESMGV4       379368939   \n",
       "\n",
       "                                       product_title product_category  \\\n",
       "0                      Amazon eGift Card - Celebrate        Gift Card   \n",
       "1                             Amazon.com eGift Cards        Gift Card   \n",
       "2                Amazon.com Gift Card Balance Reload        Gift Card   \n",
       "3                Amazon.com Gift Card Balance Reload        Gift Card   \n",
       "4  Amazon.com Gift Cards, Pack of 3 (Various Desi...        Gift Card   \n",
       "\n",
       "   star_rating  helpful_votes  total_votes vine verified_purchase  \\\n",
       "0            5              0            0    N                 Y   \n",
       "1            5              0            0    N                 Y   \n",
       "2            5              0            0    N                 Y   \n",
       "3            1              0            0    N                 Y   \n",
       "4            5              0            0    N                 Y   \n",
       "\n",
       "                                     review_headline  \\\n",
       "0                                         Five Stars   \n",
       "1  Gift card for the greatest selection of items ...   \n",
       "2                                         Five Stars   \n",
       "3                                           One Star   \n",
       "4                                         Five Stars   \n",
       "\n",
       "                                         review_body review_date  \n",
       "0             Great birthday gift for a young adult.  2015-08-31  \n",
       "1  It's an Amazon gift card and with over 9823983...  2015-08-31  \n",
       "2                                               Good  2015-08-31  \n",
       "3                                               Fair  2015-08-31  \n",
       "4  I can't believe how quickly Amazon can get the...  2015-08-31  "
      ]
     },
     "execution_count": 24,
     "metadata": {},
     "output_type": "execute_result"
    }
   ],
   "source": [
    "df.head()"
   ]
  },
  {
   "cell_type": "code",
   "execution_count": 26,
   "metadata": {
    "collapsed": false,
    "jupyter": {
     "outputs_hidden": false
    },
    "pycharm": {
     "name": "#%%\n"
    }
   },
   "outputs": [
    {
     "data": {
      "text/plain": [
       "[{'value_or_threshold': 'Gift Card',\n",
       "  'metrics': [{'name': 'CI',\n",
       "    'description': 'Class Imbalance (CI)',\n",
       "    'value': 0.24818142163030352},\n",
       "   {'name': 'DPL',\n",
       "    'description': 'Difference in Positive Proportions in Labels (DPL)',\n",
       "    'value': -0.2728200784710585},\n",
       "   {'name': 'JS',\n",
       "    'description': 'Jensen-Shannon Divergence (JS)',\n",
       "    'value': 0.06264793087463158},\n",
       "   {'name': 'KL',\n",
       "    'description': 'Kullback-Liebler Divergence (KL)',\n",
       "    'value': 0.33123679025420116},\n",
       "   {'name': 'KS',\n",
       "    'description': 'Kolmogorov-Smirnov Distance (KS)',\n",
       "    'value': 0.2728200784710585},\n",
       "   {'name': 'LP', 'description': 'L-p Norm (LP)', 'value': 0.385825855061463},\n",
       "   {'name': 'TVD',\n",
       "    'description': 'Total Variation Distance (TVD)',\n",
       "    'value': 0.2728200784710585}]},\n",
       " {'value_or_threshold': 'Digital_Software',\n",
       "  'metrics': [{'name': 'CI',\n",
       "    'description': 'Class Imbalance (CI)',\n",
       "    'value': 0.4852055340253807},\n",
       "   {'name': 'DPL',\n",
       "    'description': 'Difference in Positive Proportions in Labels (DPL)',\n",
       "    'value': 0.19895613642422239},\n",
       "   {'name': 'JS',\n",
       "    'description': 'Jensen-Shannon Divergence (JS)',\n",
       "    'value': 0.024821526725856108},\n",
       "   {'name': 'KL',\n",
       "    'description': 'Kullback-Liebler Divergence (KL)',\n",
       "    'value': 0.09337098991567055},\n",
       "   {'name': 'KS',\n",
       "    'description': 'Kolmogorov-Smirnov Distance (KS)',\n",
       "    'value': 0.19895613642422239},\n",
       "   {'name': 'LP', 'description': 'L-p Norm (LP)', 'value': 0.281366466448487},\n",
       "   {'name': 'TVD',\n",
       "    'description': 'Total Variation Distance (TVD)',\n",
       "    'value': 0.19895613642422239}]},\n",
       " {'value_or_threshold': 'Digital_Video_Games',\n",
       "  'metrics': [{'name': 'CI',\n",
       "    'description': 'Class Imbalance (CI)',\n",
       "    'value': 0.2666130443443158},\n",
       "   {'name': 'DPL',\n",
       "    'description': 'Difference in Positive Proportions in Labels (DPL)',\n",
       "    'value': 0.1118495345585836},\n",
       "   {'name': 'JS',\n",
       "    'description': 'Jensen-Shannon Divergence (JS)',\n",
       "    'value': 0.008417986453548191},\n",
       "   {'name': 'KL',\n",
       "    'description': 'Kullback-Liebler Divergence (KL)',\n",
       "    'value': 0.032167669596899234},\n",
       "   {'name': 'KS',\n",
       "    'description': 'Kolmogorov-Smirnov Distance (KS)',\n",
       "    'value': 0.11184953455858365},\n",
       "   {'name': 'LP',\n",
       "    'description': 'L-p Norm (LP)',\n",
       "    'value': 0.15817912871786716},\n",
       "   {'name': 'TVD',\n",
       "    'description': 'Total Variation Distance (TVD)',\n",
       "    'value': 0.11184953455858362}]}]"
      ]
     },
     "execution_count": 26,
     "metadata": {},
     "output_type": "execute_result"
    }
   ],
   "source": [
    "report.bias_report(\n",
    "    df=df, \n",
    "    facet_column=facet_column, \n",
    "    label_column=label_column, \n",
    "    stage_type=report.StageType.PRE_TRAINING, \n",
    "    metrics=[\"CI\", \"DPL\", \"KL\", \"JS\", \"LP\", \"TVD\", \"KS\"]\n",
    ")"
   ]
  },
  {
   "cell_type": "markdown",
   "metadata": {},
   "source": [
    "# Balance the data"
   ]
  },
  {
   "cell_type": "code",
   "execution_count": 5,
   "metadata": {},
   "outputs": [
    {
     "data": {
      "text/plain": [
       "(23535, 2)"
      ]
     },
     "execution_count": 5,
     "metadata": {},
     "output_type": "execute_result"
    }
   ],
   "source": [
    "df_grouped_by = df.groupby([\"product_category\", \"star_rating\"])[[\"product_category\", \"star_rating\"]]\n",
    "df_balanced = df_grouped_by.apply(lambda x: x.sample(df_grouped_by.size().min()).reset_index(drop=True))\n",
    "df_balanced.shape"
   ]
  },
  {
   "cell_type": "code",
   "execution_count": 6,
   "metadata": {},
   "outputs": [
    {
     "data": {
      "text/plain": [
       "<matplotlib.axes._subplots.AxesSubplot at 0x7f325fbf1690>"
      ]
     },
     "execution_count": 6,
     "metadata": {},
     "output_type": "execute_result"
    },
    {
     "data": {
      "image/png": "[encoded data removed]",
      "text/plain": [
       "<Figure size 640x480 with 1 Axes>"
      ]
     },
     "metadata": {},
     "output_type": "display_data"
    }
   ],
   "source": [
    "import seaborn as sns\n",
    "\n",
    "sns.countplot(data=df_balanced, x=\"star_rating\", hue=\"product_category\")"
   ]
  },
  {
   "cell_type": "markdown",
   "metadata": {},
   "source": [
    "# Calculate Bias Metrics on Balanced Data"
   ]
  },
  {
   "cell_type": "markdown",
   "metadata": {},
   "source": [
    "## Define \n",
    "* Facet Column (= Product Category), \n",
    "* Label Column (= Star Rating), \n",
    "* Positive Label Value (= 5,4)"
   ]
  },
  {
   "cell_type": "code",
   "execution_count": 8,
   "metadata": {},
   "outputs": [],
   "source": [
    "from smclarify.bias import report\n",
    "\n",
    "facet_column = report.FacetColumn(name=\"product_category\")\n",
    "\n",
    "label_column = report.LabelColumn(\n",
    "    name=\"star_rating\", \n",
    "    series=df_balanced[\"star_rating\"], \n",
    "    positive_label_values=[5, 4]\n",
    ")"
   ]
  },
  {
   "cell_type": "markdown",
   "metadata": {},
   "source": [
    "## Run SageMaker Clarify Bias Report"
   ]
  },
  {
   "cell_type": "code",
   "execution_count": 9,
   "metadata": {},
   "outputs": [
    {
     "data": {
      "text/plain": [
       "[{'value_or_threshold': 'Digital_Software',\n",
       "  'metrics': [{'name': 'CI',\n",
       "    'description': 'Class Imbalance (CI)',\n",
       "    'value': 0.3333333333333333},\n",
       "   {'name': 'DPL',\n",
       "    'description': 'Difference in Positive Proportions in Labels (DPL)',\n",
       "    'value': 0.0},\n",
       "   {'name': 'JS',\n",
       "    'description': 'Jensen-Shannon Divergence (JS)',\n",
       "    'value': 0.0},\n",
       "   {'name': 'KL',\n",
       "    'description': 'Kullback-Liebler Divergence (KL)',\n",
       "    'value': 0.0},\n",
       "   {'name': 'KS',\n",
       "    'description': 'Kolmogorov-Smirnov Distance (KS)',\n",
       "    'value': 0.0},\n",
       "   {'name': 'LP', 'description': 'L-p Norm (LP)', 'value': 0.0},\n",
       "   {'name': 'TVD',\n",
       "    'description': 'Total Variation Distance (TVD)',\n",
       "    'value': 0.0}]},\n",
       " {'value_or_threshold': 'Digital_Video_Games',\n",
       "  'metrics': [{'name': 'CI',\n",
       "    'description': 'Class Imbalance (CI)',\n",
       "    'value': 0.3333333333333333},\n",
       "   {'name': 'DPL',\n",
       "    'description': 'Difference in Positive Proportions in Labels (DPL)',\n",
       "    'value': 0.0},\n",
       "   {'name': 'JS',\n",
       "    'description': 'Jensen-Shannon Divergence (JS)',\n",
       "    'value': 0.0},\n",
       "   {'name': 'KL',\n",
       "    'description': 'Kullback-Liebler Divergence (KL)',\n",
       "    'value': 0.0},\n",
       "   {'name': 'KS',\n",
       "    'description': 'Kolmogorov-Smirnov Distance (KS)',\n",
       "    'value': 0.0},\n",
       "   {'name': 'LP', 'description': 'L-p Norm (LP)', 'value': 0.0},\n",
       "   {'name': 'TVD',\n",
       "    'description': 'Total Variation Distance (TVD)',\n",
       "    'value': 0.0}]},\n",
       " {'value_or_threshold': 'Gift Card',\n",
       "  'metrics': [{'name': 'CI',\n",
       "    'description': 'Class Imbalance (CI)',\n",
       "    'value': 0.3333333333333333},\n",
       "   {'name': 'DPL',\n",
       "    'description': 'Difference in Positive Proportions in Labels (DPL)',\n",
       "    'value': 0.0},\n",
       "   {'name': 'JS',\n",
       "    'description': 'Jensen-Shannon Divergence (JS)',\n",
       "    'value': 0.0},\n",
       "   {'name': 'KL',\n",
       "    'description': 'Kullback-Liebler Divergence (KL)',\n",
       "    'value': 0.0},\n",
       "   {'name': 'KS',\n",
       "    'description': 'Kolmogorov-Smirnov Distance (KS)',\n",
       "    'value': 0.0},\n",
       "   {'name': 'LP', 'description': 'L-p Norm (LP)', 'value': 0.0},\n",
       "   {'name': 'TVD',\n",
       "    'description': 'Total Variation Distance (TVD)',\n",
       "    'value': 0.0}]}]"
      ]
     },
     "execution_count": 9,
     "metadata": {},
     "output_type": "execute_result"
    }
   ],
   "source": [
    "report.bias_report(\n",
    "    df=df_balanced, \n",
    "    facet_column=facet_column, \n",
    "    label_column=label_column, \n",
    "    stage_type=report.StageType.PRE_TRAINING, \n",
    "    metrics=[\"CI\", \"DPL\", \"KL\", \"JS\", \"LP\", \"TVD\", \"KS\"]\n",
    ")"
   ]
  },
  {
   "cell_type": "code",
   "execution_count": 10,
   "metadata": {},
   "outputs": [
    {
     "data": {
      "text/html": [
       "\n",
       "<p><b>Shutting down your kernel for this notebook to release resources.</b></p>\n",
       "<button class=\"sm-command-button\" data-commandlinker-command=\"kernelmenu:shutdown\" style=\"display:none;\">Shutdown Kernel</button>\n",
       "        \n",
       "<script>\n",
       "try {\n",
       "    els = document.getElementsByClassName(\"sm-command-button\");\n",
       "    els[0].click();\n",
       "}\n",
       "catch(err) {\n",
       "    // NoOp\n",
       "}    \n",
       "</script>\n"
      ],
      "text/plain": [
       "<IPython.core.display.HTML object>"
      ]
     },
     "metadata": {},
     "output_type": "display_data"
    }
   ],
   "source": [
    "%%html\n",
    "\n",
    "<p><b>Shutting down your kernel for this notebook to release resources.</b></p>\n",
    "<button class=\"sm-command-button\" data-commandlinker-command=\"kernelmenu:shutdown\" style=\"display:none;\">Shutdown Kernel</button>\n",
    "        \n",
    "<script>\n",
    "try {\n",
    "    els = document.getElementsByClassName(\"sm-command-button\");\n",
    "    els[0].click();\n",
    "}\n",
    "catch(err) {\n",
    "    // NoOp\n",
    "}    \n",
    "</script>"
   ]
  },
  {
   "cell_type": "code",
   "execution_count": 11,
   "metadata": {},
   "outputs": [
    {
     "data": {
      "application/javascript": "\ntry {\n    Jupyter.notebook.save_checkpoint();\n    Jupyter.notebook.session.delete();\n}\ncatch(err) {\n    // NoOp\n}\n",
      "text/plain": [
       "<IPython.core.display.Javascript object>"
      ]
     },
     "metadata": {},
     "output_type": "display_data"
    }
   ],
   "source": [
    "%%javascript\n",
    "\n",
    "try {\n",
    "    Jupyter.notebook.save_checkpoint();\n",
    "    Jupyter.notebook.session.delete();\n",
    "}\n",
    "catch(err) {\n",
    "    // NoOp\n",
    "}"
   ]
  }
 ],
 "metadata": {
  "instance_type": "ml.t3.medium",
  "kernelspec": {
   "display_name": "data_science_on_aws",
   "language": "python",
   "name": "python3"
  },
  "language_info": {
   "codemirror_mode": {
    "name": "ipython",
    "version": 3
   },
   "file_extension": ".py",
   "mimetype": "text/x-python",
   "name": "python",
   "nbconvert_exporter": "python",
   "pygments_lexer": "ipython3",
   "version": "3.7.16"
  }
 },
 "nbformat": 4,
 "nbformat_minor": 4
}

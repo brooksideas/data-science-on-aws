{
 "cells": [
  {
   "cell_type": "markdown",
   "metadata": {},
   "source": [
    "# Evaluate Model with Amazon SageMaker Processing Jobs and Scikit-Learn\n",
    "\n",
    "Often, distributed data processing frameworks such as Scikit-Learn are used to pre-process data sets in order to prepare them for training.  \n",
    "\n",
    "In this notebook we'll use Amazon SageMaker Processing, and leverage the power of Scikit-Learn in a managed SageMaker environment to run our processing workload."
   ]
  },
  {
   "cell_type": "markdown",
   "metadata": {},
   "source": [
    "# NOTE:  THIS NOTEBOOK WILL TAKE A 5-10 MINUTES TO COMPLETE.\n",
    "\n",
    "# PLEASE BE PATIENT."
   ]
  },
  {
   "cell_type": "markdown",
   "metadata": {},
   "source": [
    "![](img/prepare_dataset_bert.png)\n",
    "\n",
    "![](img/processing.jpg)"
   ]
  },
  {
   "cell_type": "markdown",
   "metadata": {},
   "source": [
    "## Contents\n",
    "\n",
    "1. Setup Environment\n",
    "1. Setup Input Data\n",
    "1. Setup Output Data\n",
    "1. Build a Spark container for running the processing job\n",
    "1. Run the Processing Job using Amazon SageMaker\n",
    "1. Inspect the Processed Output Data"
   ]
  },
  {
   "cell_type": "markdown",
   "metadata": {},
   "source": [
    "# Setup Environment\n",
    "\n",
    "Let's start by specifying:\n",
    "* The S3 bucket and prefixes that you use for training and model data. Use the default bucket specified by the Amazon SageMaker session.\n",
    "* The IAM role ARN used to give processing and training access to the dataset."
   ]
  },
  {
   "cell_type": "code",
   "execution_count": 31,
   "metadata": {
    "scrolled": true
   },
   "outputs": [],
   "source": [
    "import sagemaker\n",
    "import boto3\n",
    "\n",
    "sess = sagemaker.Session()\n",
    "role = sagemaker.get_execution_role()\n",
    "bucket = sess.default_bucket()\n",
    "region = boto3.Session().region_name\n",
    "\n",
    "sm = boto3.Session().client(service_name=\"sagemaker\", region_name=region)"
   ]
  },
  {
   "cell_type": "code",
   "execution_count": 32,
   "metadata": {},
   "outputs": [],
   "source": [
    "%store -r training_job_name"
   ]
  },
  {
   "cell_type": "code",
   "execution_count": 33,
   "metadata": {},
   "outputs": [
    {
     "name": "stdout",
     "output_type": "stream",
     "text": [
      "[OK]\n"
     ]
    }
   ],
   "source": [
    "try:\n",
    "    training_job_name\n",
    "    print(\"[OK]\")\n",
    "except NameError:\n",
    "    print(\"+++++++++++++++++++++++++++++++\")\n",
    "    print(\"[ERROR] Please run the notebooks in the previous TRAIN section before you continue.\")\n",
    "    print(\"+++++++++++++++++++++++++++++++\")"
   ]
  },
  {
   "cell_type": "code",
   "execution_count": 34,
   "metadata": {},
   "outputs": [
    {
     "name": "stdout",
     "output_type": "stream",
     "text": [
      "tensorflow-training-2024-02-18-22-26-04-112\n"
     ]
    }
   ],
   "source": [
    "print(training_job_name)"
   ]
  },
  {
   "cell_type": "code",
   "execution_count": 35,
   "metadata": {},
   "outputs": [],
   "source": [
    "%store -r raw_input_data_s3_uri"
   ]
  },
  {
   "cell_type": "code",
   "execution_count": 36,
   "metadata": {},
   "outputs": [],
   "source": [
    "try:\n",
    "    raw_input_data_s3_uri\n",
    "except NameError:\n",
    "    print(\"++++++++++++++++++++++++++++++++++++++++++++++++++++++++++++++++++++++++++++\")\n",
    "    print(\"[ERROR] Please run the notebooks in the PREPARE section before you continue.\")\n",
    "    print(\"++++++++++++++++++++++++++++++++++++++++++++++++++++++++++++++++++++++++++++\")"
   ]
  },
  {
   "cell_type": "code",
   "execution_count": 37,
   "metadata": {},
   "outputs": [
    {
     "name": "stdout",
     "output_type": "stream",
     "text": [
      "s3://sagemaker-eu-west-2-123137613716/amazon-reviews-pds/tsv/\n"
     ]
    }
   ],
   "source": [
    "print(raw_input_data_s3_uri)"
   ]
  },
  {
   "cell_type": "code",
   "execution_count": 38,
   "metadata": {},
   "outputs": [],
   "source": [
    "%store -r max_seq_length"
   ]
  },
  {
   "cell_type": "code",
   "execution_count": 39,
   "metadata": {},
   "outputs": [
    {
     "name": "stdout",
     "output_type": "stream",
     "text": [
      "[OK]\n"
     ]
    }
   ],
   "source": [
    "try:\n",
    "    max_seq_length\n",
    "    print(\"[OK]\")\n",
    "except NameError:\n",
    "    print(\"+++++++++++++++++++++++++++++++\")\n",
    "    print(\"[ERROR] Please run the notebooks in the previous TRAIN section before you continue.\")\n",
    "    print(\"+++++++++++++++++++++++++++++++\")"
   ]
  },
  {
   "cell_type": "code",
   "execution_count": 40,
   "metadata": {},
   "outputs": [
    {
     "name": "stdout",
     "output_type": "stream",
     "text": [
      "64\n"
     ]
    }
   ],
   "source": [
    "print(max_seq_length)"
   ]
  },
  {
   "cell_type": "code",
   "execution_count": 41,
   "metadata": {},
   "outputs": [],
   "source": [
    "%store -r experiment_name"
   ]
  },
  {
   "cell_type": "code",
   "execution_count": 42,
   "metadata": {},
   "outputs": [
    {
     "name": "stdout",
     "output_type": "stream",
     "text": [
      "[OK]\n"
     ]
    }
   ],
   "source": [
    "try:\n",
    "    experiment_name\n",
    "    print(\"[OK]\")\n",
    "except NameError:\n",
    "    print(\"+++++++++++++++++++++++++++++++\")\n",
    "    print(\"[ERROR] Please run the notebooks in the previous TRAIN section before you continue.\")\n",
    "    print(\"+++++++++++++++++++++++++++++++\")"
   ]
  },
  {
   "cell_type": "code",
   "execution_count": 43,
   "metadata": {},
   "outputs": [
    {
     "name": "stdout",
     "output_type": "stream",
     "text": [
      "Amazon-Customer-Reviews-BERT-Experiment-1708210947\n"
     ]
    }
   ],
   "source": [
    "print(experiment_name)"
   ]
  },
  {
   "cell_type": "code",
   "execution_count": 44,
   "metadata": {},
   "outputs": [],
   "source": [
    "%store -r trial_name"
   ]
  },
  {
   "cell_type": "code",
   "execution_count": 45,
   "metadata": {},
   "outputs": [
    {
     "name": "stdout",
     "output_type": "stream",
     "text": [
      "[OK]\n"
     ]
    }
   ],
   "source": [
    "try:\n",
    "    trial_name\n",
    "    print(\"[OK]\")\n",
    "except NameError:\n",
    "    print(\"+++++++++++++++++++++++++++++++\")\n",
    "    print(\"[ERROR] Please run the notebooks in the previous TRAIN section before you continue.\")\n",
    "    print(\"+++++++++++++++++++++++++++++++\")"
   ]
  },
  {
   "cell_type": "code",
   "execution_count": 46,
   "metadata": {},
   "outputs": [
    {
     "name": "stdout",
     "output_type": "stream",
     "text": [
      "trial-1708210947\n"
     ]
    }
   ],
   "source": [
    "print(trial_name)"
   ]
  },
  {
   "cell_type": "code",
   "execution_count": 47,
   "metadata": {},
   "outputs": [
    {
     "name": "stdout",
     "output_type": "stream",
     "text": [
      "tensorflow-training-2024-02-18-22-26-04-112\n"
     ]
    }
   ],
   "source": [
    "print(training_job_name)"
   ]
  },
  {
   "cell_type": "code",
   "execution_count": 48,
   "metadata": {
    "scrolled": true
   },
   "outputs": [
    {
     "name": "stdout",
     "output_type": "stream",
     "text": [
      "{'TrainingJobName': 'tensorflow-training-2024-02-18-22-26-04-112', 'TrainingJobArn': 'arn:aws:sagemaker:eu-west-2:123137613716:training-job/tensorflow-training-2024-02-18-22-26-04-112', 'ModelArtifacts': {'S3ModelArtifacts': 's3://sagemaker-eu-west-2-123137613716/tensorflow-training-2024-02-18-22-26-04-112/output/model.tar.gz'}, 'TrainingJobStatus': 'Completed', 'SecondaryStatus': 'Completed', 'HyperParameters': {'enable_checkpointing': 'false', 'enable_sagemaker_debugger': 'true', 'enable_tensorboard': 'true', 'epochs': '1', 'epsilon': '1e-08', 'freeze_bert_layer': 'false', 'learning_rate': '0.001', 'max_seq_length': '64', 'model_dir': '\"s3://sagemaker-eu-west-2-123137613716/tensorflow-training-2024-02-18-22-26-04-112/model\"', 'run_sample_predictions': 'true', 'run_test': 'true', 'run_validation': 'true', 'sagemaker_container_log_level': '20', 'sagemaker_job_name': '\"tensorflow-training-2024-02-18-22-26-04-112\"', 'sagemaker_program': '\"tf_bert_reviews.py\"', 'sagemaker_region': '\"eu-west-2\"', 'sagemaker_submit_directory': '\"s3://sagemaker-eu-west-2-123137613716/tensorflow-training-2024-02-18-22-26-04-112/source/sourcedir.tar.gz\"', 'test_batch_size': '128', 'test_steps': '100', 'train_batch_size': '128', 'train_steps_per_epoch': '100', 'use_amp': 'true', 'use_xla': 'true', 'validation_batch_size': '128', 'validation_steps': '100'}, 'AlgorithmSpecification': {'TrainingImage': '763104351884.dkr.ecr.eu-west-2.amazonaws.com/tensorflow-training:2.3.1-cpu-py37', 'TrainingInputMode': 'File', 'MetricDefinitions': [{'Name': 'train:loss', 'Regex': 'loss: ([0-9\\\\.]+)'}, {'Name': 'train:accuracy', 'Regex': 'accuracy: ([0-9\\\\.]+)'}, {'Name': 'validation:loss', 'Regex': 'val_loss: ([0-9\\\\.]+)'}, {'Name': 'validation:accuracy', 'Regex': 'val_accuracy: ([0-9\\\\.]+)'}], 'EnableSageMakerMetricsTimeSeries': True}, 'RoleArn': 'arn:aws:iam::123137613716:role/service-role/AmazonSageMaker-ExecutionRole-20240214T015029', 'InputDataConfig': [{'ChannelName': 'train', 'DataSource': {'S3DataSource': {'S3DataType': 'S3Prefix', 'S3Uri': 's3://sagemaker-eu-west-2-123137613716/sagemaker-scikit-learn-2024-02-17-23-02-28-552/output/bert-train', 'S3DataDistributionType': 'ShardedByS3Key'}}, 'CompressionType': 'None', 'RecordWrapperType': 'None'}, {'ChannelName': 'validation', 'DataSource': {'S3DataSource': {'S3DataType': 'S3Prefix', 'S3Uri': 's3://sagemaker-eu-west-2-123137613716/sagemaker-scikit-learn-2024-02-17-23-02-28-552/output/bert-validation', 'S3DataDistributionType': 'ShardedByS3Key'}}, 'CompressionType': 'None', 'RecordWrapperType': 'None'}, {'ChannelName': 'test', 'DataSource': {'S3DataSource': {'S3DataType': 'S3Prefix', 'S3Uri': 's3://sagemaker-eu-west-2-123137613716/sagemaker-scikit-learn-2024-02-17-23-02-28-552/output/bert-test', 'S3DataDistributionType': 'ShardedByS3Key'}}, 'CompressionType': 'None', 'RecordWrapperType': 'None'}], 'OutputDataConfig': {'KmsKeyId': '', 'S3OutputPath': 's3://sagemaker-eu-west-2-123137613716/', 'CompressionType': 'GZIP'}, 'ResourceConfig': {'InstanceType': 'ml.c5.9xlarge', 'InstanceCount': 1, 'VolumeSizeInGB': 1024}, 'StoppingCondition': {'MaxRuntimeInSeconds': 86400}, 'CreationTime': datetime.datetime(2024, 2, 18, 22, 26, 6, 74000, tzinfo=tzlocal()), 'TrainingStartTime': datetime.datetime(2024, 2, 18, 22, 27, 24, 610000, tzinfo=tzlocal()), 'TrainingEndTime': datetime.datetime(2024, 2, 18, 22, 48, 0, 78000, tzinfo=tzlocal()), 'LastModifiedTime': datetime.datetime(2024, 2, 18, 22, 48, 15, 211000, tzinfo=tzlocal()), 'SecondaryStatusTransitions': [{'Status': 'Starting', 'StartTime': datetime.datetime(2024, 2, 18, 22, 26, 6, 74000, tzinfo=tzlocal()), 'EndTime': datetime.datetime(2024, 2, 18, 22, 27, 24, 610000, tzinfo=tzlocal()), 'StatusMessage': 'Preparing the instances for training'}, {'Status': 'Downloading', 'StartTime': datetime.datetime(2024, 2, 18, 22, 27, 24, 610000, tzinfo=tzlocal()), 'EndTime': datetime.datetime(2024, 2, 18, 22, 28, 15, 349000, tzinfo=tzlocal()), 'StatusMessage': 'Downloading the training image'}, {'Status': 'Training', 'StartTime': datetime.datetime(2024, 2, 18, 22, 28, 15, 349000, tzinfo=tzlocal()), 'EndTime': datetime.datetime(2024, 2, 18, 22, 47, 49, 514000, tzinfo=tzlocal()), 'StatusMessage': 'Training image download completed. Training in progress.'}, {'Status': 'Uploading', 'StartTime': datetime.datetime(2024, 2, 18, 22, 47, 49, 514000, tzinfo=tzlocal()), 'EndTime': datetime.datetime(2024, 2, 18, 22, 48, 0, 78000, tzinfo=tzlocal()), 'StatusMessage': 'Uploading generated training model'}, {'Status': 'Completed', 'StartTime': datetime.datetime(2024, 2, 18, 22, 48, 0, 78000, tzinfo=tzlocal()), 'EndTime': datetime.datetime(2024, 2, 18, 22, 48, 0, 78000, tzinfo=tzlocal()), 'StatusMessage': 'Training job completed'}], 'FinalMetricDataList': [{'MetricName': 'train:loss', 'Value': 1.6104999780654907, 'Timestamp': datetime.datetime(2024, 2, 18, 22, 37, 57, tzinfo=tzlocal())}, {'MetricName': 'train:accuracy', 'Value': 0.19990000128746033, 'Timestamp': datetime.datetime(2024, 2, 18, 22, 37, 57, tzinfo=tzlocal())}, {'MetricName': 'validation:loss', 'Value': 1.6109000444412231, 'Timestamp': datetime.datetime(2024, 2, 18, 22, 36, 36, tzinfo=tzlocal())}, {'MetricName': 'validation:accuracy', 'Value': 0.19939999282360077, 'Timestamp': datetime.datetime(2024, 2, 18, 22, 36, 36, tzinfo=tzlocal())}], 'EnableNetworkIsolation': False, 'EnableInterContainerTrafficEncryption': False, 'EnableManagedSpotTraining': False, 'CheckpointConfig': {'S3Uri': 's3://sagemaker-eu-west-2-123137613716/checkpoints/cc71d9e0-cdeb-4986-9433-c9b8f6b3d394/'}, 'TrainingTimeInSeconds': 1236, 'BillableTimeInSeconds': 1236, 'DebugHookConfig': {'S3OutputPath': 's3://sagemaker-eu-west-2-123137613716/', 'HookParameters': {'export_tensorboard': 'true', 'save_interval': '10', 'tensorboard_dir': 'hook_tensorboard/'}, 'CollectionConfigurations': []}, 'ExperimentConfig': {'ExperimentName': 'Amazon-Customer-Reviews-BERT-Experiment-1708210947', 'TrialName': 'trial-1708210947', 'TrialComponentDisplayName': 'train'}, 'ProfilerConfig': {'S3OutputPath': 's3://sagemaker-eu-west-2-123137613716/', 'ProfilingIntervalInMilliseconds': 500, 'ProfilingParameters': {'DataloaderProfilingConfig': '{\"StartStep\": 5, \"NumSteps\": 10, \"MetricsRegex\": \".*\", }', 'DetailedProfilingConfig': '{\"StartStep\": 5, \"NumSteps\": 10, }', 'FileOpenFailThreshold': '50', 'HorovodProfilingConfig': '{\"StartStep\": 5, \"NumSteps\": 10, }', 'LocalPath': '/opt/ml/output/profiler/', 'PythonProfilingConfig': '{\"StartStep\": 5, \"NumSteps\": 10, \"ProfilerName\": \"cprofile\", \"cProfileTimer\": \"total_time\", }', 'RotateFileCloseIntervalInSeconds': '60', 'RotateMaxFileSizeInBytes': '10485760', 'SMDataParallelProfilingConfig': '{\"StartStep\": 5, \"NumSteps\": 10, }'}, 'DisableProfiler': False}, 'ProfilerRuleConfigurations': [{'RuleConfigurationName': 'ProfilerReport', 'RuleEvaluatorImage': '250201462417.dkr.ecr.eu-west-2.amazonaws.com/sagemaker-debugger-rules:latest', 'VolumeSizeInGB': 0, 'RuleParameters': {'rule_to_invoke': 'ProfilerReport'}}], 'ProfilerRuleEvaluationStatuses': [{'RuleConfigurationName': 'ProfilerReport', 'RuleEvaluationJobArn': 'arn:aws:sagemaker:eu-west-2:123137613716:processing-job/tensorflow-training-2024-0-ProfilerReport-6001b969', 'RuleEvaluationStatus': 'NoIssuesFound', 'LastModifiedTime': datetime.datetime(2024, 2, 18, 22, 48, 15, 207000, tzinfo=tzlocal())}], 'ProfilingStatus': 'Enabled', 'ResponseMetadata': {'RequestId': 'fc5ff6c6-e693-4bcf-9adf-89758b001a44', 'HTTPStatusCode': 200, 'HTTPHeaders': {'x-amzn-requestid': 'fc5ff6c6-e693-4bcf-9adf-89758b001a44', 'content-type': 'application/x-amz-json-1.1', 'content-length': '6686', 'date': 'Sun, 18 Feb 2024 22:54:39 GMT'}, 'RetryAttempts': 0}}\n"
     ]
    }
   ],
   "source": [
    "from sagemaker.tensorflow.estimator import TensorFlow\n",
    "\n",
    "describe_training_job_response = sm.describe_training_job(TrainingJobName=training_job_name)\n",
    "print(describe_training_job_response)"
   ]
  },
  {
   "cell_type": "code",
   "execution_count": 49,
   "metadata": {},
   "outputs": [
    {
     "data": {
      "text/plain": [
       "'s3://sagemaker-eu-west-2-123137613716/tensorflow-training-2024-02-18-22-26-04-112/output/'"
      ]
     },
     "execution_count": 49,
     "metadata": {},
     "output_type": "execute_result"
    }
   ],
   "source": [
    "model_dir_s3_uri = describe_training_job_response[\"ModelArtifacts\"][\"S3ModelArtifacts\"].replace(\"model.tar.gz\", \"\")\n",
    "model_dir_s3_uri"
   ]
  },
  {
   "cell_type": "markdown",
   "metadata": {},
   "source": [
    "# Run the Processing Job using Amazon SageMaker\n",
    "\n",
    "Next, use the Amazon SageMaker Python SDK to submit a processing job using our custom python script."
   ]
  },
  {
   "cell_type": "markdown",
   "metadata": {},
   "source": [
    "# Create the `Experiment Config`"
   ]
  },
  {
   "cell_type": "code",
   "execution_count": 50,
   "metadata": {},
   "outputs": [],
   "source": [
    "experiment_config = {\n",
    "    \"ExperimentName\": experiment_name,\n",
    "    \"TrialName\": trial_name,\n",
    "    \"TrialComponentDisplayName\": \"evaluate\",\n",
    "}"
   ]
  },
  {
   "cell_type": "markdown",
   "metadata": {},
   "source": [
    "# Set the Processing Job Hyper-Parameters "
   ]
  },
  {
   "cell_type": "code",
   "execution_count": 51,
   "metadata": {
    "scrolled": true
   },
   "outputs": [],
   "source": [
    "processing_instance_type = \"ml.m5.xlarge\"\n",
    "processing_instance_count = 1"
   ]
  },
  {
   "cell_type": "markdown",
   "metadata": {},
   "source": [
    "# Choosing a `max_seq_length` for BERT\n",
    "Since a smaller `max_seq_length` leads to faster training and lower resource utilization, we want to find the smallest review length that captures `80%` of our reviews.\n",
    "\n",
    "Remember our distribution of review lengths from a previous section?\n",
    "\n",
    "```\n",
    "mean         51.683405\n",
    "std         107.030844\n",
    "min           1.000000\n",
    "10%           2.000000\n",
    "20%           7.000000\n",
    "30%          19.000000\n",
    "40%          22.000000\n",
    "50%          26.000000\n",
    "60%          32.000000\n",
    "70%          43.000000\n",
    "80%          63.000000\n",
    "90%         110.000000\n",
    "100%       5347.000000\n",
    "max        5347.000000\n",
    "```\n",
    "\n",
    "![](img/review_word_count_distribution.png)\n",
    "\n",
    "Review length `63` represents the `80th` percentile for this dataset.  However, it's best to stick with powers-of-2 when using BERT.  So let's choose `64` as this is the smallest power-of-2 greater than `63`.  Reviews with length > `64` will be truncated to `64`."
   ]
  },
  {
   "cell_type": "code",
   "execution_count": 52,
   "metadata": {
    "scrolled": true
   },
   "outputs": [],
   "source": [
    "from sagemaker.sklearn.processing import SKLearnProcessor\n",
    "\n",
    "processor = SKLearnProcessor(\n",
    "    framework_version=\"0.23-1\",\n",
    "    role=role,\n",
    "    instance_type=processing_instance_type,\n",
    "    instance_count=processing_instance_count,\n",
    "    max_runtime_in_seconds=1800,\n",
    ")\n",
    "\n",
    "# Reduced the max run time in seconds by 1/4th ===> 7200 * 0.25 = 1800"
   ]
  },
  {
   "cell_type": "code",
   "execution_count": 53,
   "metadata": {},
   "outputs": [
    {
     "name": "stdout",
     "output_type": "stream",
     "text": [
      "\n",
      "Job Name:  sagemaker-scikit-learn-2024-02-18-22-54-40-811\n",
      "Inputs:  [{'InputName': 'model-tar-s3-uri', 'AppManaged': False, 'S3Input': {'S3Uri': 's3://sagemaker-eu-west-2-123137613716/tensorflow-training-2024-02-18-22-26-04-112/output/', 'LocalPath': '/opt/ml/processing/input/model/', 'S3DataType': 'S3Prefix', 'S3InputMode': 'File', 'S3DataDistributionType': 'FullyReplicated', 'S3CompressionType': 'None'}}, {'InputName': 'evaluation-data-s3-uri', 'AppManaged': False, 'S3Input': {'S3Uri': 's3://sagemaker-eu-west-2-123137613716/amazon-reviews-pds/tsv/', 'LocalPath': '/opt/ml/processing/input/data/', 'S3DataType': 'S3Prefix', 'S3InputMode': 'File', 'S3DataDistributionType': 'FullyReplicated', 'S3CompressionType': 'None'}}, {'InputName': 'code', 'AppManaged': False, 'S3Input': {'S3Uri': 's3://sagemaker-eu-west-2-123137613716/sagemaker-scikit-learn-2024-02-18-22-54-40-811/input/code/evaluate_model_metrics.py', 'LocalPath': '/opt/ml/processing/input/code', 'S3DataType': 'S3Prefix', 'S3InputMode': 'File', 'S3DataDistributionType': 'FullyReplicated', 'S3CompressionType': 'None'}}]\n",
      "Outputs:  [{'OutputName': 'metrics', 'AppManaged': False, 'S3Output': {'S3Uri': 's3://sagemaker-eu-west-2-123137613716/sagemaker-scikit-learn-2024-02-18-22-54-40-811/output/metrics', 'LocalPath': '/opt/ml/processing/output/metrics', 'S3UploadMode': 'EndOfJob'}}]\n"
     ]
    }
   ],
   "source": [
    "from sagemaker.processing import ProcessingInput, ProcessingOutput\n",
    "\n",
    "processor.run(\n",
    "    code=\"evaluate_model_metrics.py\",\n",
    "    inputs=[\n",
    "        ProcessingInput(\n",
    "            input_name=\"model-tar-s3-uri\", source=model_dir_s3_uri, destination=\"/opt/ml/processing/input/model/\"\n",
    "        ),\n",
    "        ProcessingInput(\n",
    "            input_name=\"evaluation-data-s3-uri\",\n",
    "            source=raw_input_data_s3_uri,\n",
    "            destination=\"/opt/ml/processing/input/data/\",\n",
    "        ),\n",
    "    ],\n",
    "    outputs=[\n",
    "        ProcessingOutput(s3_upload_mode=\"EndOfJob\", output_name=\"metrics\", source=\"/opt/ml/processing/output/metrics\"),\n",
    "    ],\n",
    "    arguments=[\"--max-seq-length\", str(max_seq_length)],\n",
    "    experiment_config=experiment_config,\n",
    "    logs=True,\n",
    "    wait=False,\n",
    ")"
   ]
  },
  {
   "cell_type": "code",
   "execution_count": 54,
   "metadata": {
    "scrolled": true
   },
   "outputs": [
    {
     "name": "stdout",
     "output_type": "stream",
     "text": [
      "sagemaker-scikit-learn-2024-02-18-22-54-40-811\n"
     ]
    }
   ],
   "source": [
    "scikit_processing_job_name = processor.jobs[-1].describe()[\"ProcessingJobName\"]\n",
    "print(scikit_processing_job_name)"
   ]
  },
  {
   "cell_type": "code",
   "execution_count": 55,
   "metadata": {
    "scrolled": true
   },
   "outputs": [
    {
     "data": {
      "text/html": [
       "<b>Review <a target=\"blank\" href=\"https://console.aws.amazon.com/sagemaker/home?region=eu-west-2#/processing-jobs/sagemaker-scikit-learn-2024-02-18-22-54-40-811\">Processing Job</a></b>"
      ],
      "text/plain": [
       "<IPython.core.display.HTML object>"
      ]
     },
     "metadata": {},
     "output_type": "display_data"
    }
   ],
   "source": [
    "from IPython.core.display import display, HTML\n",
    "\n",
    "display(\n",
    "    HTML(\n",
    "        '<b>Review <a target=\"blank\" href=\"https://console.aws.amazon.com/sagemaker/home?region={}#/processing-jobs/{}\">Processing Job</a></b>'.format(\n",
    "            region, scikit_processing_job_name\n",
    "        )\n",
    "    )\n",
    ")"
   ]
  },
  {
   "cell_type": "code",
   "execution_count": 56,
   "metadata": {
    "scrolled": true
   },
   "outputs": [
    {
     "data": {
      "text/html": [
       "<b>Review <a target=\"blank\" href=\"https://console.aws.amazon.com/cloudwatch/home?region=eu-west-2#logStream:group=/aws/sagemaker/ProcessingJobs;prefix=sagemaker-scikit-learn-2024-02-18-22-54-40-811;streamFilter=typeLogStreamPrefix\">CloudWatch Logs</a> After About 5 Minutes</b>"
      ],
      "text/plain": [
       "<IPython.core.display.HTML object>"
      ]
     },
     "metadata": {},
     "output_type": "display_data"
    }
   ],
   "source": [
    "from IPython.core.display import display, HTML\n",
    "\n",
    "display(\n",
    "    HTML(\n",
    "        '<b>Review <a target=\"blank\" href=\"https://console.aws.amazon.com/cloudwatch/home?region={}#logStream:group=/aws/sagemaker/ProcessingJobs;prefix={};streamFilter=typeLogStreamPrefix\">CloudWatch Logs</a> After About 5 Minutes</b>'.format(\n",
    "            region, scikit_processing_job_name\n",
    "        )\n",
    "    )\n",
    ")"
   ]
  },
  {
   "cell_type": "code",
   "execution_count": 57,
   "metadata": {
    "scrolled": true
   },
   "outputs": [
    {
     "data": {
      "text/html": [
       "<b>Review <a target=\"blank\" href=\"https://s3.console.aws.amazon.com/s3/buckets/sagemaker-eu-west-2-123137613716/sagemaker-scikit-learn-2024-02-18-22-54-40-811/?region=eu-west-2&tab=overview\">S3 Output Data</a> After The Processing Job Has Completed</b>"
      ],
      "text/plain": [
       "<IPython.core.display.HTML object>"
      ]
     },
     "metadata": {},
     "output_type": "display_data"
    }
   ],
   "source": [
    "from IPython.core.display import display, HTML\n",
    "\n",
    "display(\n",
    "    HTML(\n",
    "        '<b>Review <a target=\"blank\" href=\"https://s3.console.aws.amazon.com/s3/buckets/{}/{}/?region={}&tab=overview\">S3 Output Data</a> After The Processing Job Has Completed</b>'.format(\n",
    "            bucket, scikit_processing_job_name, region\n",
    "        )\n",
    "    )\n",
    ")"
   ]
  },
  {
   "cell_type": "markdown",
   "metadata": {},
   "source": [
    "# Monitor the Processing Job"
   ]
  },
  {
   "cell_type": "code",
   "execution_count": 58,
   "metadata": {},
   "outputs": [
    {
     "name": "stdout",
     "output_type": "stream",
     "text": [
      "{'ProcessingInputs': [{'InputName': 'model-tar-s3-uri', 'AppManaged': False, 'S3Input': {'S3Uri': 's3://sagemaker-eu-west-2-123137613716/tensorflow-training-2024-02-18-22-26-04-112/output/', 'LocalPath': '/opt/ml/processing/input/model/', 'S3DataType': 'S3Prefix', 'S3InputMode': 'File', 'S3DataDistributionType': 'FullyReplicated', 'S3CompressionType': 'None'}}, {'InputName': 'evaluation-data-s3-uri', 'AppManaged': False, 'S3Input': {'S3Uri': 's3://sagemaker-eu-west-2-123137613716/amazon-reviews-pds/tsv/', 'LocalPath': '/opt/ml/processing/input/data/', 'S3DataType': 'S3Prefix', 'S3InputMode': 'File', 'S3DataDistributionType': 'FullyReplicated', 'S3CompressionType': 'None'}}, {'InputName': 'code', 'AppManaged': False, 'S3Input': {'S3Uri': 's3://sagemaker-eu-west-2-123137613716/sagemaker-scikit-learn-2024-02-18-22-54-40-811/input/code/evaluate_model_metrics.py', 'LocalPath': '/opt/ml/processing/input/code', 'S3DataType': 'S3Prefix', 'S3InputMode': 'File', 'S3DataDistributionType': 'FullyReplicated', 'S3CompressionType': 'None'}}], 'ProcessingOutputConfig': {'Outputs': [{'OutputName': 'metrics', 'S3Output': {'S3Uri': 's3://sagemaker-eu-west-2-123137613716/sagemaker-scikit-learn-2024-02-18-22-54-40-811/output/metrics', 'LocalPath': '/opt/ml/processing/output/metrics', 'S3UploadMode': 'EndOfJob'}, 'AppManaged': False}]}, 'ProcessingJobName': 'sagemaker-scikit-learn-2024-02-18-22-54-40-811', 'ProcessingResources': {'ClusterConfig': {'InstanceCount': 1, 'InstanceType': 'ml.m5.xlarge', 'VolumeSizeInGB': 30}}, 'StoppingCondition': {'MaxRuntimeInSeconds': 1800}, 'AppSpecification': {'ImageUri': '764974769150.dkr.ecr.eu-west-2.amazonaws.com/sagemaker-scikit-learn:0.23-1-cpu-py3', 'ContainerEntrypoint': ['python3', '/opt/ml/processing/input/code/evaluate_model_metrics.py'], 'ContainerArguments': ['--max-seq-length', '64']}, 'RoleArn': 'arn:aws:iam::123137613716:role/service-role/AmazonSageMaker-ExecutionRole-20240214T015029', 'ExperimentConfig': {'ExperimentName': 'Amazon-Customer-Reviews-BERT-Experiment-1708210947', 'TrialName': 'trial-1708210947', 'TrialComponentDisplayName': 'evaluate'}, 'ProcessingJobArn': 'arn:aws:sagemaker:eu-west-2:123137613716:processing-job/sagemaker-scikit-learn-2024-02-18-22-54-40-811', 'ProcessingJobStatus': 'InProgress', 'LastModifiedTime': datetime.datetime(2024, 2, 18, 22, 54, 41, 121000, tzinfo=tzlocal()), 'CreationTime': datetime.datetime(2024, 2, 18, 22, 54, 41, 121000, tzinfo=tzlocal()), 'ResponseMetadata': {'RequestId': 'fddc3115-6452-475e-aae5-5785b0d1ef4a', 'HTTPStatusCode': 200, 'HTTPHeaders': {'x-amzn-requestid': 'fddc3115-6452-475e-aae5-5785b0d1ef4a', 'content-type': 'application/x-amz-json-1.1', 'content-length': '2444', 'date': 'Sun, 18 Feb 2024 22:54:41 GMT'}, 'RetryAttempts': 0}}\n"
     ]
    }
   ],
   "source": [
    "running_processor = sagemaker.processing.ProcessingJob.from_processing_name(\n",
    "    processing_job_name=scikit_processing_job_name, sagemaker_session=sess\n",
    ")\n",
    "\n",
    "processing_job_description = running_processor.describe()\n",
    "\n",
    "print(processing_job_description)"
   ]
  },
  {
   "cell_type": "code",
   "execution_count": 59,
   "metadata": {},
   "outputs": [
    {
     "name": "stdout",
     "output_type": "stream",
     "text": [
      "sagemaker-scikit-learn-2024-02-18-22-54-40-811\n"
     ]
    }
   ],
   "source": [
    "processing_evaluation_metrics_job_name = processing_job_description[\"ProcessingJobName\"]\n",
    "print(processing_evaluation_metrics_job_name)"
   ]
  },
  {
   "cell_type": "code",
   "execution_count": 60,
   "metadata": {
    "scrolled": true
   },
   "outputs": [
    {
     "name": "stdout",
     "output_type": "stream",
     "text": [
      "."
     ]
    },
    {
     "name": "stdout",
     "output_type": "stream",
     "text": [
      "................................................................................................................................................................!CPU times: user 646 ms, sys: 61.8 ms, total: 708 ms\n",
      "Wall time: 13min 31s\n"
     ]
    }
   ],
   "source": [
    "%%time\n",
    "\n",
    "running_processor.wait(logs=False)"
   ]
  },
  {
   "cell_type": "markdown",
   "metadata": {},
   "source": [
    "# _Please Wait Until the ^^ Processing Job ^^ Completes Above._"
   ]
  },
  {
   "cell_type": "markdown",
   "metadata": {},
   "source": [
    "# Inspect the Processed Output Data\n",
    "\n",
    "Take a look at a few rows of the transformed dataset to make sure the processing was successful."
   ]
  },
  {
   "cell_type": "code",
   "execution_count": 61,
   "metadata": {},
   "outputs": [
    {
     "name": "stdout",
     "output_type": "stream",
     "text": [
      "s3://sagemaker-eu-west-2-123137613716/sagemaker-scikit-learn-2024-02-18-22-54-40-811/output/metrics\n"
     ]
    }
   ],
   "source": [
    "processing_job_description = running_processor.describe()\n",
    "\n",
    "output_config = processing_job_description[\"ProcessingOutputConfig\"]\n",
    "for output in output_config[\"Outputs\"]:\n",
    "    if output[\"OutputName\"] == \"metrics\":\n",
    "        processed_metrics_s3_uri = output[\"S3Output\"][\"S3Uri\"]\n",
    "\n",
    "print(processed_metrics_s3_uri)"
   ]
  },
  {
   "cell_type": "code",
   "execution_count": 62,
   "metadata": {
    "scrolled": true
   },
   "outputs": [
    {
     "name": "stdout",
     "output_type": "stream",
     "text": [
      "2024-02-18 23:08:04         42 evaluation.json\n"
     ]
    }
   ],
   "source": [
    "!aws s3 ls $processed_metrics_s3_uri/"
   ]
  },
  {
   "cell_type": "markdown",
   "metadata": {},
   "source": [
    "## Show the test accuracy"
   ]
  },
  {
   "cell_type": "code",
   "execution_count": 63,
   "metadata": {},
   "outputs": [
    {
     "name": "stdout",
     "output_type": "stream",
     "text": [
      "{'metrics': {'accuracy': {'value': 0.12}}}\n"
     ]
    }
   ],
   "source": [
    "import json\n",
    "from pprint import pprint\n",
    "\n",
    "evaluation_json = sagemaker.s3.S3Downloader.read_file(\"{}/evaluation.json\".format(processed_metrics_s3_uri))\n",
    "\n",
    "pprint(json.loads(evaluation_json))"
   ]
  },
  {
   "cell_type": "code",
   "execution_count": 64,
   "metadata": {},
   "outputs": [],
   "source": [
    "# !aws s3 cp $processed_metrics_s3_uri/confusion_matrix.png ./model_evaluation/\n",
    "\n",
    "# import time\n",
    "\n",
    "# time.sleep(10)  # Slight delay for our notebook to recognize the newly-downloaded file"
   ]
  },
  {
   "cell_type": "code",
   "execution_count": 65,
   "metadata": {},
   "outputs": [],
   "source": [
    "# %%html\n",
    "\n",
    "# <img src='./model_evaluation/confusion_matrix.png'>"
   ]
  },
  {
   "cell_type": "markdown",
   "metadata": {},
   "source": [
    "# Pass Variables to the Next Notebook(s)"
   ]
  },
  {
   "cell_type": "code",
   "execution_count": 66,
   "metadata": {},
   "outputs": [
    {
     "name": "stdout",
     "output_type": "stream",
     "text": [
      "Stored 'processing_evaluation_metrics_job_name' (str)\n"
     ]
    }
   ],
   "source": [
    "%store processing_evaluation_metrics_job_name"
   ]
  },
  {
   "cell_type": "code",
   "execution_count": 67,
   "metadata": {
    "scrolled": true
   },
   "outputs": [
    {
     "name": "stdout",
     "output_type": "stream",
     "text": [
      "Stored 'processed_metrics_s3_uri' (str)\n"
     ]
    }
   ],
   "source": [
    "%store processed_metrics_s3_uri"
   ]
  },
  {
   "cell_type": "code",
   "execution_count": 68,
   "metadata": {},
   "outputs": [
    {
     "name": "stdout",
     "output_type": "stream",
     "text": [
      "Stored variables and their in-db values:\n",
      "auto_ml_job_name                                      -> 'automl-dm-15-23-18-19'\n",
      "autopilot_endpoint_arn                                -> 'arn:aws:sagemaker:eu-west-2:123137613716:endpoint\n",
      "autopilot_endpoint_name                               -> 'automl-dm-ep-16-02-16-45'\n",
      "autopilot_model_arn                                   -> 'arn:aws:sagemaker:eu-west-2:123137613716:model/au\n",
      "autopilot_model_name                                  -> 'automl-dm-model-16-02-16-44'\n",
      "autopilot_train_s3_uri                                -> 's3://sagemaker-eu-west-2-123137613716/data/amazon\n",
      "balance_dataset                                       -> True\n",
      "balanced_bias_data_jsonlines_s3_uri                   -> 's3://sagemaker-eu-west-2-123137613716/bias-detect\n",
      "balanced_bias_data_s3_uri                             -> 's3://sagemaker-eu-west-2-123137613716/bias-detect\n",
      "bias_data_s3_uri                                      -> 's3://sagemaker-eu-west-2-123137613716/bias-detect\n",
      "experiment_name                                       -> 'Amazon-Customer-Reviews-BERT-Experiment-170821094\n",
      "feature_group_name                                    -> 'reviews-feature-group-1708210948'\n",
      "feature_store_offline_prefix                          -> 'reviews-feature-store-1708210948'\n",
      "ingest_create_athena_db_passed                        -> True\n",
      "ingest_create_athena_table_parquet_passed             -> True\n",
      "ingest_create_athena_table_tsv_passed                 -> True\n",
      "max_seq_length                                        -> 64\n",
      "processed_metrics_s3_uri                              -> 's3://sagemaker-eu-west-2-123137613716/sagemaker-s\n",
      "processed_test_data_s3_uri                            -> 's3://sagemaker-eu-west-2-123137613716/sagemaker-s\n",
      "processed_train_data_s3_uri                           -> 's3://sagemaker-eu-west-2-123137613716/sagemaker-s\n",
      "processed_validation_data_s3_uri                      -> 's3://sagemaker-eu-west-2-123137613716/sagemaker-s\n",
      "processing_evaluation_metrics_job_name                -> 'sagemaker-scikit-learn-2024-02-18-22-54-40-811'\n",
      "raw_input_data_s3_uri                                 -> 's3://sagemaker-eu-west-2-123137613716/amazon-revi\n",
      "s3_private_path_tsv                                   -> 's3://sagemaker-eu-west-2-123137613716/amazon-revi\n",
      "s3_public_path_tsv                                    -> 's3://dsoaws/amazon-reviews-pds/tsv'\n",
      "setup_dependencies_passed                             -> True\n",
      "setup_iam_roles_passed                                -> True\n",
      "setup_s3_bucket_passed                                -> True\n",
      "test_split_percentage                                 -> 0.05\n",
      "train_split_percentage                                -> 0.9\n",
      "training_job_name                                     -> 'tensorflow-training-2024-02-18-22-26-04-112'\n",
      "transformer_pytorch_model_dir_s3_uri                  -> 's3://sagemaker-eu-west-2-123137613716/model/tenso\n",
      "trial_name                                            -> 'trial-1708210947'\n",
      "validation_split_percentage                           -> 0.05\n"
     ]
    }
   ],
   "source": [
    "%store"
   ]
  },
  {
   "cell_type": "markdown",
   "metadata": {},
   "source": [
    "# Show the Experiment Tracking Lineage"
   ]
  },
  {
   "cell_type": "code",
   "execution_count": 69,
   "metadata": {},
   "outputs": [
    {
     "data": {
      "text/html": [
       "<div>\n",
       "<style scoped>\n",
       "    .dataframe tbody tr th:only-of-type {\n",
       "        vertical-align: middle;\n",
       "    }\n",
       "\n",
       "    .dataframe tbody tr th {\n",
       "        vertical-align: top;\n",
       "    }\n",
       "\n",
       "    .dataframe thead th {\n",
       "        text-align: right;\n",
       "    }\n",
       "</style>\n",
       "<table border=\"1\" class=\"dataframe\">\n",
       "  <thead>\n",
       "    <tr style=\"text-align: right;\">\n",
       "      <th></th>\n",
       "      <th>TrialComponentName</th>\n",
       "      <th>DisplayName</th>\n",
       "      <th>SourceArn</th>\n",
       "      <th>SageMaker.InstanceCount</th>\n",
       "      <th>SageMaker.InstanceType</th>\n",
       "      <th>SageMaker.VolumeSizeInGB</th>\n",
       "      <th>SageMaker.ImageUri - MediaType</th>\n",
       "      <th>SageMaker.ImageUri - Value</th>\n",
       "      <th>code - MediaType</th>\n",
       "      <th>code - Value</th>\n",
       "      <th>...</th>\n",
       "      <th>SageMaker.ModelArtifact - Value</th>\n",
       "      <th>AWS_DEFAULT_REGION</th>\n",
       "      <th>raw-input-data - MediaType</th>\n",
       "      <th>raw-input-data - Value</th>\n",
       "      <th>bert-test - MediaType</th>\n",
       "      <th>bert-test - Value</th>\n",
       "      <th>bert-train - MediaType</th>\n",
       "      <th>bert-train - Value</th>\n",
       "      <th>bert-validation - MediaType</th>\n",
       "      <th>bert-validation - Value</th>\n",
       "    </tr>\n",
       "  </thead>\n",
       "  <tbody>\n",
       "    <tr>\n",
       "      <th>0</th>\n",
       "      <td>sagemaker-scikit-learn-2024-02-18-22-54-40-811-aws-processing-job</td>\n",
       "      <td>evaluate</td>\n",
       "      <td>arn:aws:sagemaker:eu-west-2:123137613716:processing-job/sagemaker-scikit-learn-2024-02-18-22-54-40-811</td>\n",
       "      <td>1.0</td>\n",
       "      <td>ml.m5.xlarge</td>\n",
       "      <td>30.0</td>\n",
       "      <td>NaN</td>\n",
       "      <td>764974769150.dkr.ecr.eu-west-2.amazonaws.com/sagemaker-scikit-learn:0.23-1-cpu-py3</td>\n",
       "      <td>NaN</td>\n",
       "      <td>s3://sagemaker-eu-west-2-123137613716/sagemaker-scikit-learn-2024-02-18-22-54-40-811/input/code/evaluate_model_metrics.py</td>\n",
       "      <td>...</td>\n",
       "      <td>NaN</td>\n",
       "      <td>NaN</td>\n",
       "      <td>NaN</td>\n",
       "      <td>NaN</td>\n",
       "      <td>NaN</td>\n",
       "      <td>NaN</td>\n",
       "      <td>NaN</td>\n",
       "      <td>NaN</td>\n",
       "      <td>NaN</td>\n",
       "      <td>NaN</td>\n",
       "    </tr>\n",
       "    <tr>\n",
       "      <th>1</th>\n",
       "      <td>sagemaker-scikit-learn-2024-02-18-22-51-33-980-aws-processing-job</td>\n",
       "      <td>evaluate</td>\n",
       "      <td>arn:aws:sagemaker:eu-west-2:123137613716:processing-job/sagemaker-scikit-learn-2024-02-18-22-51-33-980</td>\n",
       "      <td>1.0</td>\n",
       "      <td>ml.m5.xlarge</td>\n",
       "      <td>30.0</td>\n",
       "      <td>NaN</td>\n",
       "      <td>764974769150.dkr.ecr.eu-west-2.amazonaws.com/sagemaker-scikit-learn:0.23-1-cpu-py3</td>\n",
       "      <td>NaN</td>\n",
       "      <td>s3://sagemaker-eu-west-2-123137613716/sagemaker-scikit-learn-2024-02-18-22-51-33-980/input/code/evaluate_model_metrics.py</td>\n",
       "      <td>...</td>\n",
       "      <td>NaN</td>\n",
       "      <td>NaN</td>\n",
       "      <td>NaN</td>\n",
       "      <td>NaN</td>\n",
       "      <td>NaN</td>\n",
       "      <td>NaN</td>\n",
       "      <td>NaN</td>\n",
       "      <td>NaN</td>\n",
       "      <td>NaN</td>\n",
       "      <td>NaN</td>\n",
       "    </tr>\n",
       "    <tr>\n",
       "      <th>2</th>\n",
       "      <td>tensorflow-training-2024-02-18-22-26-04-112-aws-training-job</td>\n",
       "      <td>train</td>\n",
       "      <td>arn:aws:sagemaker:eu-west-2:123137613716:training-job/tensorflow-training-2024-02-18-22-26-04-112</td>\n",
       "      <td>1.0</td>\n",
       "      <td>ml.c5.9xlarge</td>\n",
       "      <td>1024.0</td>\n",
       "      <td>NaN</td>\n",
       "      <td>NaN</td>\n",
       "      <td>NaN</td>\n",
       "      <td>NaN</td>\n",
       "      <td>...</td>\n",
       "      <td>s3://sagemaker-eu-west-2-123137613716/tensorflow-training-2024-02-18-22-26-04-112/output/model.tar.gz</td>\n",
       "      <td>NaN</td>\n",
       "      <td>NaN</td>\n",
       "      <td>NaN</td>\n",
       "      <td>NaN</td>\n",
       "      <td>NaN</td>\n",
       "      <td>NaN</td>\n",
       "      <td>NaN</td>\n",
       "      <td>NaN</td>\n",
       "      <td>NaN</td>\n",
       "    </tr>\n",
       "    <tr>\n",
       "      <th>3</th>\n",
       "      <td>tensorflow-training-2024-02-18-22-07-23-321-aws-training-job</td>\n",
       "      <td>train</td>\n",
       "      <td>arn:aws:sagemaker:eu-west-2:123137613716:training-job/tensorflow-training-2024-02-18-22-07-23-321</td>\n",
       "      <td>1.0</td>\n",
       "      <td>ml.c5.9xlarge</td>\n",
       "      <td>1024.0</td>\n",
       "      <td>NaN</td>\n",
       "      <td>NaN</td>\n",
       "      <td>NaN</td>\n",
       "      <td>NaN</td>\n",
       "      <td>...</td>\n",
       "      <td>s3://sagemaker-eu-west-2-123137613716/tensorflow-training-2024-02-18-22-07-23-321/output/model.tar.gz</td>\n",
       "      <td>NaN</td>\n",
       "      <td>NaN</td>\n",
       "      <td>NaN</td>\n",
       "      <td>NaN</td>\n",
       "      <td>NaN</td>\n",
       "      <td>NaN</td>\n",
       "      <td>NaN</td>\n",
       "      <td>NaN</td>\n",
       "      <td>NaN</td>\n",
       "    </tr>\n",
       "    <tr>\n",
       "      <th>4</th>\n",
       "      <td>sagemaker-scikit-learn-2024-02-17-23-02-28-552-aws-processing-job</td>\n",
       "      <td>prepare</td>\n",
       "      <td>arn:aws:sagemaker:eu-west-2:123137613716:processing-job/sagemaker-scikit-learn-2024-02-17-23-02-28-552</td>\n",
       "      <td>2.0</td>\n",
       "      <td>ml.c5.2xlarge</td>\n",
       "      <td>30.0</td>\n",
       "      <td>NaN</td>\n",
       "      <td>764974769150.dkr.ecr.eu-west-2.amazonaws.com/sagemaker-scikit-learn:0.23-1-cpu-py3</td>\n",
       "      <td>NaN</td>\n",
       "      <td>s3://sagemaker-eu-west-2-123137613716/sagemaker-scikit-learn-2024-02-17-23-02-28-552/input/code/preprocess-scikit-text-to-bert-feature-store.py</td>\n",
       "      <td>...</td>\n",
       "      <td>NaN</td>\n",
       "      <td>eu-west-2</td>\n",
       "      <td>NaN</td>\n",
       "      <td>s3://sagemaker-eu-west-2-123137613716/amazon-reviews-pds/tsv/</td>\n",
       "      <td>NaN</td>\n",
       "      <td>s3://sagemaker-eu-west-2-123137613716/sagemaker-scikit-learn-2024-02-17-23-02-28-552/output/bert-test</td>\n",
       "      <td>NaN</td>\n",
       "      <td>s3://sagemaker-eu-west-2-123137613716/sagemaker-scikit-learn-2024-02-17-23-02-28-552/output/bert-train</td>\n",
       "      <td>NaN</td>\n",
       "      <td>s3://sagemaker-eu-west-2-123137613716/sagemaker-scikit-learn-2024-02-17-23-02-28-552/output/bert-validation</td>\n",
       "    </tr>\n",
       "  </tbody>\n",
       "</table>\n",
       "<p>5 rows × 143 columns</p>\n",
       "</div>"
      ],
      "text/plain": [
       "                                                  TrialComponentName  \\\n",
       "0  sagemaker-scikit-learn-2024-02-18-22-54-40-811-aws-processing-job   \n",
       "1  sagemaker-scikit-learn-2024-02-18-22-51-33-980-aws-processing-job   \n",
       "2       tensorflow-training-2024-02-18-22-26-04-112-aws-training-job   \n",
       "3       tensorflow-training-2024-02-18-22-07-23-321-aws-training-job   \n",
       "4  sagemaker-scikit-learn-2024-02-17-23-02-28-552-aws-processing-job   \n",
       "\n",
       "  DisplayName  \\\n",
       "0    evaluate   \n",
       "1    evaluate   \n",
       "2       train   \n",
       "3       train   \n",
       "4     prepare   \n",
       "\n",
       "                                                                                                SourceArn  \\\n",
       "0  arn:aws:sagemaker:eu-west-2:123137613716:processing-job/sagemaker-scikit-learn-2024-02-18-22-54-40-811   \n",
       "1  arn:aws:sagemaker:eu-west-2:123137613716:processing-job/sagemaker-scikit-learn-2024-02-18-22-51-33-980   \n",
       "2       arn:aws:sagemaker:eu-west-2:123137613716:training-job/tensorflow-training-2024-02-18-22-26-04-112   \n",
       "3       arn:aws:sagemaker:eu-west-2:123137613716:training-job/tensorflow-training-2024-02-18-22-07-23-321   \n",
       "4  arn:aws:sagemaker:eu-west-2:123137613716:processing-job/sagemaker-scikit-learn-2024-02-17-23-02-28-552   \n",
       "\n",
       "   SageMaker.InstanceCount SageMaker.InstanceType  SageMaker.VolumeSizeInGB  \\\n",
       "0                      1.0           ml.m5.xlarge                      30.0   \n",
       "1                      1.0           ml.m5.xlarge                      30.0   \n",
       "2                      1.0          ml.c5.9xlarge                    1024.0   \n",
       "3                      1.0          ml.c5.9xlarge                    1024.0   \n",
       "4                      2.0          ml.c5.2xlarge                      30.0   \n",
       "\n",
       "   SageMaker.ImageUri - MediaType  \\\n",
       "0                             NaN   \n",
       "1                             NaN   \n",
       "2                             NaN   \n",
       "3                             NaN   \n",
       "4                             NaN   \n",
       "\n",
       "                                                           SageMaker.ImageUri - Value  \\\n",
       "0  764974769150.dkr.ecr.eu-west-2.amazonaws.com/sagemaker-scikit-learn:0.23-1-cpu-py3   \n",
       "1  764974769150.dkr.ecr.eu-west-2.amazonaws.com/sagemaker-scikit-learn:0.23-1-cpu-py3   \n",
       "2                                                                                 NaN   \n",
       "3                                                                                 NaN   \n",
       "4  764974769150.dkr.ecr.eu-west-2.amazonaws.com/sagemaker-scikit-learn:0.23-1-cpu-py3   \n",
       "\n",
       "   code - MediaType  \\\n",
       "0               NaN   \n",
       "1               NaN   \n",
       "2               NaN   \n",
       "3               NaN   \n",
       "4               NaN   \n",
       "\n",
       "                                                                                                                                      code - Value  \\\n",
       "0                        s3://sagemaker-eu-west-2-123137613716/sagemaker-scikit-learn-2024-02-18-22-54-40-811/input/code/evaluate_model_metrics.py   \n",
       "1                        s3://sagemaker-eu-west-2-123137613716/sagemaker-scikit-learn-2024-02-18-22-51-33-980/input/code/evaluate_model_metrics.py   \n",
       "2                                                                                                                                              NaN   \n",
       "3                                                                                                                                              NaN   \n",
       "4  s3://sagemaker-eu-west-2-123137613716/sagemaker-scikit-learn-2024-02-17-23-02-28-552/input/code/preprocess-scikit-text-to-bert-feature-store.py   \n",
       "\n",
       "   ...  \\\n",
       "0  ...   \n",
       "1  ...   \n",
       "2  ...   \n",
       "3  ...   \n",
       "4  ...   \n",
       "\n",
       "                                                                         SageMaker.ModelArtifact - Value  \\\n",
       "0                                                                                                    NaN   \n",
       "1                                                                                                    NaN   \n",
       "2  s3://sagemaker-eu-west-2-123137613716/tensorflow-training-2024-02-18-22-26-04-112/output/model.tar.gz   \n",
       "3  s3://sagemaker-eu-west-2-123137613716/tensorflow-training-2024-02-18-22-07-23-321/output/model.tar.gz   \n",
       "4                                                                                                    NaN   \n",
       "\n",
       "  AWS_DEFAULT_REGION  raw-input-data - MediaType  \\\n",
       "0                NaN                         NaN   \n",
       "1                NaN                         NaN   \n",
       "2                NaN                         NaN   \n",
       "3                NaN                         NaN   \n",
       "4          eu-west-2                         NaN   \n",
       "\n",
       "                                          raw-input-data - Value  \\\n",
       "0                                                            NaN   \n",
       "1                                                            NaN   \n",
       "2                                                            NaN   \n",
       "3                                                            NaN   \n",
       "4  s3://sagemaker-eu-west-2-123137613716/amazon-reviews-pds/tsv/   \n",
       "\n",
       "   bert-test - MediaType  \\\n",
       "0                    NaN   \n",
       "1                    NaN   \n",
       "2                    NaN   \n",
       "3                    NaN   \n",
       "4                    NaN   \n",
       "\n",
       "                                                                                       bert-test - Value  \\\n",
       "0                                                                                                    NaN   \n",
       "1                                                                                                    NaN   \n",
       "2                                                                                                    NaN   \n",
       "3                                                                                                    NaN   \n",
       "4  s3://sagemaker-eu-west-2-123137613716/sagemaker-scikit-learn-2024-02-17-23-02-28-552/output/bert-test   \n",
       "\n",
       "  bert-train - MediaType  \\\n",
       "0                    NaN   \n",
       "1                    NaN   \n",
       "2                    NaN   \n",
       "3                    NaN   \n",
       "4                    NaN   \n",
       "\n",
       "                                                                                       bert-train - Value  \\\n",
       "0                                                                                                     NaN   \n",
       "1                                                                                                     NaN   \n",
       "2                                                                                                     NaN   \n",
       "3                                                                                                     NaN   \n",
       "4  s3://sagemaker-eu-west-2-123137613716/sagemaker-scikit-learn-2024-02-17-23-02-28-552/output/bert-train   \n",
       "\n",
       "  bert-validation - MediaType  \\\n",
       "0                         NaN   \n",
       "1                         NaN   \n",
       "2                         NaN   \n",
       "3                         NaN   \n",
       "4                         NaN   \n",
       "\n",
       "                                                                                       bert-validation - Value  \n",
       "0                                                                                                          NaN  \n",
       "1                                                                                                          NaN  \n",
       "2                                                                                                          NaN  \n",
       "3                                                                                                          NaN  \n",
       "4  s3://sagemaker-eu-west-2-123137613716/sagemaker-scikit-learn-2024-02-17-23-02-28-552/output/bert-validation  \n",
       "\n",
       "[5 rows x 143 columns]"
      ]
     },
     "execution_count": 69,
     "metadata": {},
     "output_type": "execute_result"
    }
   ],
   "source": [
    "from sagemaker.analytics import ExperimentAnalytics\n",
    "\n",
    "import pandas as pd\n",
    "\n",
    "pd.set_option(\"max_colwidth\", 500)\n",
    "\n",
    "experiment_analytics = ExperimentAnalytics(\n",
    "    sagemaker_session=sess, experiment_name=experiment_name, sort_by=\"CreationTime\", sort_order=\"Descending\"\n",
    ")\n",
    "\n",
    "experiment_analytics_df = experiment_analytics.dataframe()\n",
    "experiment_analytics_df"
   ]
  },
  {
   "cell_type": "code",
   "execution_count": 70,
   "metadata": {},
   "outputs": [
    {
     "name": "stdout",
     "output_type": "stream",
     "text": [
      "sagemaker-scikit-learn-2024-02-18-22-54-40-811-aws-processing-job\n"
     ]
    }
   ],
   "source": [
    "trial_component_name = experiment_analytics_df.TrialComponentName[0]\n",
    "print(trial_component_name)"
   ]
  },
  {
   "cell_type": "code",
   "execution_count": 71,
   "metadata": {},
   "outputs": [
    {
     "data": {
      "text/plain": [
       "{'TrialComponentName': 'sagemaker-scikit-learn-2024-02-18-22-54-40-811-aws-processing-job',\n",
       " 'TrialComponentArn': 'arn:aws:sagemaker:eu-west-2:123137613716:experiment-trial-component/sagemaker-scikit-learn-2024-02-18-22-54-40-811-aws-processing-job',\n",
       " 'DisplayName': 'evaluate',\n",
       " 'Source': {'SourceArn': 'arn:aws:sagemaker:eu-west-2:123137613716:processing-job/sagemaker-scikit-learn-2024-02-18-22-54-40-811',\n",
       "  'SourceType': 'SageMakerProcessingJob'},\n",
       " 'Status': {'PrimaryStatus': 'Completed',\n",
       "  'Message': 'Status: Completed, exit message: null, failure reason: null'},\n",
       " 'StartTime': datetime.datetime(2024, 2, 18, 22, 59, 2, tzinfo=tzlocal()),\n",
       " 'EndTime': datetime.datetime(2024, 2, 18, 23, 8, 9, tzinfo=tzlocal()),\n",
       " 'CreationTime': datetime.datetime(2024, 2, 18, 22, 54, 41, 714000, tzinfo=tzlocal()),\n",
       " 'CreatedBy': {'UserProfileArn': 'arn:aws:sagemaker:eu-west-2:123137613716:user-profile/d-bftxvdkrbngl/default-20240214t015029',\n",
       "  'UserProfileName': 'default-20240214t015029',\n",
       "  'DomainId': 'd-bftxvdkrbngl'},\n",
       " 'LastModifiedTime': datetime.datetime(2024, 2, 18, 23, 8, 10, 138000, tzinfo=tzlocal()),\n",
       " 'LastModifiedBy': {},\n",
       " 'Parameters': {'SageMaker.InstanceCount': {'NumberValue': 1.0},\n",
       "  'SageMaker.InstanceType': {'StringValue': 'ml.m5.xlarge'},\n",
       "  'SageMaker.VolumeSizeInGB': {'NumberValue': 30.0}},\n",
       " 'InputArtifacts': {'SageMaker.ImageUri': {'Value': '764974769150.dkr.ecr.eu-west-2.amazonaws.com/sagemaker-scikit-learn:0.23-1-cpu-py3'},\n",
       "  'code': {'Value': 's3://sagemaker-eu-west-2-123137613716/sagemaker-scikit-learn-2024-02-18-22-54-40-811/input/code/evaluate_model_metrics.py'},\n",
       "  'evaluation-data-s3-uri': {'Value': 's3://sagemaker-eu-west-2-123137613716/amazon-reviews-pds/tsv/'},\n",
       "  'model-tar-s3-uri': {'Value': 's3://sagemaker-eu-west-2-123137613716/tensorflow-training-2024-02-18-22-26-04-112/output/'}},\n",
       " 'OutputArtifacts': {'metrics': {'Value': 's3://sagemaker-eu-west-2-123137613716/sagemaker-scikit-learn-2024-02-18-22-54-40-811/output/metrics'}},\n",
       " 'Metrics': [],\n",
       " 'LineageGroupArn': 'arn:aws:sagemaker:eu-west-2:123137613716:lineage-group/sagemaker-default-lineage-group',\n",
       " 'Sources': [],\n",
       " 'ResponseMetadata': {'RequestId': 'ca71b388-ed78-45cc-a2b8-e9c62b619443',\n",
       "  'HTTPStatusCode': 200,\n",
       "  'HTTPHeaders': {'x-amzn-requestid': 'ca71b388-ed78-45cc-a2b8-e9c62b619443',\n",
       "   'content-type': 'application/x-amz-json-1.1',\n",
       "   'content-length': '1820',\n",
       "   'date': 'Sun, 18 Feb 2024 23:08:14 GMT'},\n",
       "  'RetryAttempts': 0}}"
      ]
     },
     "execution_count": 71,
     "metadata": {},
     "output_type": "execute_result"
    }
   ],
   "source": [
    "trial_component_description = sm.describe_trial_component(TrialComponentName=trial_component_name)\n",
    "trial_component_description"
   ]
  },
  {
   "cell_type": "code",
   "execution_count": 72,
   "metadata": {},
   "outputs": [
    {
     "data": {
      "text/html": [
       "<div>\n",
       "<style scoped>\n",
       "    .dataframe tbody tr th:only-of-type {\n",
       "        vertical-align: middle;\n",
       "    }\n",
       "\n",
       "    .dataframe tbody tr th {\n",
       "        vertical-align: top;\n",
       "    }\n",
       "\n",
       "    .dataframe thead th {\n",
       "        text-align: right;\n",
       "    }\n",
       "</style>\n",
       "<table border=\"1\" class=\"dataframe\">\n",
       "  <thead>\n",
       "    <tr style=\"text-align: right;\">\n",
       "      <th></th>\n",
       "      <th>Name/Source</th>\n",
       "      <th>Direction</th>\n",
       "      <th>Type</th>\n",
       "      <th>Association Type</th>\n",
       "      <th>Lineage Type</th>\n",
       "    </tr>\n",
       "  </thead>\n",
       "  <tbody>\n",
       "    <tr>\n",
       "      <th>0</th>\n",
       "      <td>s3://...811/input/code/evaluate_model_metrics.py</td>\n",
       "      <td>Input</td>\n",
       "      <td>DataSet</td>\n",
       "      <td>ContributedTo</td>\n",
       "      <td>artifact</td>\n",
       "    </tr>\n",
       "    <tr>\n",
       "      <th>1</th>\n",
       "      <td>s3://...t-2-123137613716/amazon-reviews-pds/tsv/</td>\n",
       "      <td>Input</td>\n",
       "      <td>DataSet</td>\n",
       "      <td>ContributedTo</td>\n",
       "      <td>artifact</td>\n",
       "    </tr>\n",
       "    <tr>\n",
       "      <th>2</th>\n",
       "      <td>s3://...training-2024-02-18-22-26-04-112/output/</td>\n",
       "      <td>Input</td>\n",
       "      <td>DataSet</td>\n",
       "      <td>ContributedTo</td>\n",
       "      <td>artifact</td>\n",
       "    </tr>\n",
       "    <tr>\n",
       "      <th>3</th>\n",
       "      <td>76497...om/sagemaker-scikit-learn:0.23-1-cpu-py3</td>\n",
       "      <td>Input</td>\n",
       "      <td>Image</td>\n",
       "      <td>ContributedTo</td>\n",
       "      <td>artifact</td>\n",
       "    </tr>\n",
       "    <tr>\n",
       "      <th>4</th>\n",
       "      <td>s3://...n-2024-02-18-22-54-40-811/output/metrics</td>\n",
       "      <td>Output</td>\n",
       "      <td>DataSet</td>\n",
       "      <td>Produced</td>\n",
       "      <td>artifact</td>\n",
       "    </tr>\n",
       "  </tbody>\n",
       "</table>\n",
       "</div>"
      ],
      "text/plain": [
       "                                        Name/Source Direction     Type  \\\n",
       "0  s3://...811/input/code/evaluate_model_metrics.py     Input  DataSet   \n",
       "1  s3://...t-2-123137613716/amazon-reviews-pds/tsv/     Input  DataSet   \n",
       "2  s3://...training-2024-02-18-22-26-04-112/output/     Input  DataSet   \n",
       "3  76497...om/sagemaker-scikit-learn:0.23-1-cpu-py3     Input    Image   \n",
       "4  s3://...n-2024-02-18-22-54-40-811/output/metrics    Output  DataSet   \n",
       "\n",
       "  Association Type Lineage Type  \n",
       "0    ContributedTo     artifact  \n",
       "1    ContributedTo     artifact  \n",
       "2    ContributedTo     artifact  \n",
       "3    ContributedTo     artifact  \n",
       "4         Produced     artifact  "
      ]
     },
     "execution_count": 72,
     "metadata": {},
     "output_type": "execute_result"
    }
   ],
   "source": [
    "from sagemaker.lineage.visualizer import LineageTableVisualizer\n",
    "\n",
    "lineage_table_viz = LineageTableVisualizer(sess)\n",
    "lineage_table_viz_df = lineage_table_viz.show(processing_job_name=processing_evaluation_metrics_job_name)\n",
    "lineage_table_viz_df"
   ]
  },
  {
   "cell_type": "markdown",
   "metadata": {},
   "source": [
    "# Release Resources"
   ]
  },
  {
   "cell_type": "code",
   "execution_count": 73,
   "metadata": {},
   "outputs": [
    {
     "data": {
      "text/html": [
       "\n",
       "<p><b>Shutting down your kernel for this notebook to release resources.</b></p>\n",
       "<button class=\"sm-command-button\" data-commandlinker-command=\"kernelmenu:shutdown\" style=\"display:none;\">Shutdown Kernel</button>\n",
       "        \n",
       "<script>\n",
       "try {\n",
       "    els = document.getElementsByClassName(\"sm-command-button\");\n",
       "    els[0].click();\n",
       "}\n",
       "catch(err) {\n",
       "    // NoOp\n",
       "}    \n",
       "</script>\n"
      ],
      "text/plain": [
       "<IPython.core.display.HTML object>"
      ]
     },
     "metadata": {},
     "output_type": "display_data"
    }
   ],
   "source": [
    "%%html\n",
    "\n",
    "<p><b>Shutting down your kernel for this notebook to release resources.</b></p>\n",
    "<button class=\"sm-command-button\" data-commandlinker-command=\"kernelmenu:shutdown\" style=\"display:none;\">Shutdown Kernel</button>\n",
    "        \n",
    "<script>\n",
    "try {\n",
    "    els = document.getElementsByClassName(\"sm-command-button\");\n",
    "    els[0].click();\n",
    "}\n",
    "catch(err) {\n",
    "    // NoOp\n",
    "}    \n",
    "</script>"
   ]
  },
  {
   "cell_type": "code",
   "execution_count": 74,
   "metadata": {
    "scrolled": true
   },
   "outputs": [
    {
     "data": {
      "application/javascript": "\ntry {\n    Jupyter.notebook.save_checkpoint();\n    Jupyter.notebook.session.delete();\n}\ncatch(err) {\n    // NoOp\n}\n",
      "text/plain": [
       "<IPython.core.display.Javascript object>"
      ]
     },
     "metadata": {},
     "output_type": "display_data"
    }
   ],
   "source": [
    "%%javascript\n",
    "\n",
    "try {\n",
    "    Jupyter.notebook.save_checkpoint();\n",
    "    Jupyter.notebook.session.delete();\n",
    "}\n",
    "catch(err) {\n",
    "    // NoOp\n",
    "}"
   ]
  }
 ],
 "metadata": {
  "instance_type": "ml.t3.medium",
  "kernelspec": {
   "display_name": "data_science_on_aws",
   "language": "python",
   "name": "python3"
  },
  "language_info": {
   "codemirror_mode": {
    "name": "ipython",
    "version": 3
   },
   "file_extension": ".py",
   "mimetype": "text/x-python",
   "name": "python",
   "nbconvert_exporter": "python",
   "pygments_lexer": "ipython3",
   "version": "3.7.16"
  }
 },
 "nbformat": 4,
 "nbformat_minor": 4
}

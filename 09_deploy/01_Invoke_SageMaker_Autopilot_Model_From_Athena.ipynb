{
 "cells": [
  {
   "cell_type": "markdown",
   "metadata": {},
   "source": [
    "# Invoke SageMaker Autopilot Model from Athena"
   ]
  },
  {
   "cell_type": "markdown",
   "metadata": {},
   "source": [
    "Machine Learning (ML) with Amazon Athena (Preview) lets you use Athena to write SQL statements that run Machine Learning (ML) inference using Amazon SageMaker. This feature simplifies access to ML models for data analysis, eliminating the need to use complex programming methods to run inference.\n",
    "\n",
    "To use ML with Athena (Preview), you define an ML with Athena (Preview) function with the `USING FUNCTION` clause. The function points to the Amazon SageMaker model endpoint that you want to use and specifies the variable names and data types to pass to the model. Subsequent clauses in the query reference the function to pass values to the model. The model runs inference based on the values that the query passes and then returns inference results."
   ]
  },
  {
   "cell_type": "markdown",
   "metadata": {},
   "source": [
    "<img src=\"img/athena_model.png\" width=\"50%\" align=\"left\">"
   ]
  },
  {
   "cell_type": "markdown",
   "metadata": {},
   "source": [
    "# Pre-Requisite\n",
    "\n",
    "## *Please note that ML with Athena is in Preview and will only work in the following regions that support Preview Functionality:*\n",
    "\n",
    "## *us-east-1,  us-west-2, ap-south-1, eu-west-1*\n"
   ]
  },
  {
   "cell_type": "markdown",
   "metadata": {},
   "source": [
    "#### According to recent blog posts and checks , I found out that my region eu-west-2 does not support AthenaML so I will be skipping this notebook.\n",
    "\n",
    "\n",
    "#### [List of AWS Services by location](https://aws.amazon.com/about-aws/global-infrastructure/regional-product-services/)"
   ]
  },
  {
   "cell_type": "markdown",
   "metadata": {},
   "source": [
    "#### Failed attempt to Switch the region from eu-west-2 to eu-west-1"
   ]
  },
  {
   "cell_type": "code",
   "execution_count": 1,
   "metadata": {},
   "outputs": [],
   "source": [
    "import boto3\n",
    "\n",
    "# Specify the desired region\n",
    "desired_region = 'eu-west-1'\n",
    "\n",
    "# Configure the AWS region\n",
    "boto3.setup_default_session(region_name=desired_region)\n"
   ]
  },
  {
   "cell_type": "markdown",
   "metadata": {},
   "source": [
    "### Check if you current regions supports AthenaML Preview"
   ]
  },
  {
   "cell_type": "code",
   "execution_count": 2,
   "metadata": {},
   "outputs": [
    {
     "name": "stdout",
     "output_type": "stream",
     "text": [
      "Region ==> eu-west-2\n",
      "Sagemaker Session ==> <sagemaker.session.Session object at 0x7fa1db88fdd0>\n"
     ]
    }
   ],
   "source": [
    "import boto3\n",
    "import sagemaker\n",
    "import pandas as pd\n",
    "\n",
    "sess = sagemaker.Session()\n",
    "bucket = sess.default_bucket()\n",
    "role = sagemaker.get_execution_role()\n",
    "\n",
    "# I have switched to eu-west-1 \n",
    "# region = boto3.Session().region_name\n",
    "\n",
    "# sm = boto3.Session().client(service_name=\"sagemaker\", region_name=region)\n",
    "\n",
    "# Attempted to switch regions from eu-west-2 to eu-west-1\n",
    "# Get the current region\n",
    "region = boto3.Session().region_name\n",
    "\n",
    "print(f\"Region ==> {region}\")\n",
    "\n",
    "# Create a new SageMaker session in the desired region\n",
    "sagemaker_session = sagemaker.Session(boto_session=boto3.Session(region_name=desired_region))\n",
    "\n",
    "print(f\"Sagemaker Session ==> {sagemaker_session}\")\n",
    "\n",
    "\n",
    "# Create a SageMaker client in the desired region\n",
    "sm = boto3.Session().client(service_name=\"sagemaker\", region_name=desired_region)\n",
    "\n"
   ]
  },
  {
   "cell_type": "code",
   "execution_count": 3,
   "metadata": {},
   "outputs": [
    {
     "data": {
      "text/plain": [
       "'eu-west-1'"
      ]
     },
     "execution_count": 3,
     "metadata": {},
     "output_type": "execute_result"
    }
   ],
   "source": [
    "desired_region"
   ]
  },
  {
   "cell_type": "code",
   "execution_count": 5,
   "metadata": {},
   "outputs": [
    {
     "name": "stdout",
     "output_type": "stream",
     "text": [
      " [OK] AthenaML IS SUPPORTED IN eu-west-2\n",
      " [OK] Please proceed with this notebook.\n"
     ]
    }
   ],
   "source": [
    "if region in [\"eu-west-1\",\"eu-west-2\", \"ap-south-1\", \"us-east-1\", \"us-west-2\"]:\n",
    "    print(\" [OK] AthenaML IS SUPPORTED IN {}\".format(region))\n",
    "    print(\" [OK] Please proceed with this notebook.\")\n",
    "else:\n",
    "    print(\"+++++++++++++++++++++++++++++++++++++++++++++++++++++++++++++++++++++++++\")\n",
    "    print(\" [ERROR] AthenaML IS *NOT* SUPPORTED IN {} !!\".format(region))\n",
    "    print(\" [INFO] This is OK. SKIP this notebook and move ahead with the workshop.\")\n",
    "    print(\" [INFO] This notebook is not required for the rest of this workshop.\")\n",
    "    print(\"+++++++++++++++++++++++++++++++++++++++++++++++++++++++++++++++++++++++++\")"
   ]
  },
  {
   "cell_type": "markdown",
   "metadata": {},
   "source": [
    "# Pre-Requisite\n",
    "\n",
    "## _Please wait for the Autopilot Model to deploy!!  Otherwise, this notebook won't work properly._"
   ]
  },
  {
   "cell_type": "code",
   "execution_count": 6,
   "metadata": {},
   "outputs": [],
   "source": [
    "%store -r autopilot_endpoint_name"
   ]
  },
  {
   "cell_type": "code",
   "execution_count": 7,
   "metadata": {},
   "outputs": [
    {
     "name": "stdout",
     "output_type": "stream",
     "text": [
      "[OK]\n"
     ]
    }
   ],
   "source": [
    "try:\n",
    "    autopilot_endpoint_name\n",
    "    print(\"[OK]\")\n",
    "except NameError:\n",
    "    print(\"+++++++++++++++++++++++++++++++++++++++++++++++++++++++++++++++++++++++++\")\n",
    "    print(\"[ERROR] There is no Autopilot Model Endpoint deployed.\")\n",
    "    print(\"[INFO] This is OK. Just skip this notebook and move ahead with the next notebook.\")\n",
    "    print(\"[INFO] This notebook is not required for the rest of this workshop.\")\n",
    "    print(\"+++++++++++++++++++++++++++++++++++++++++++++++++++++++++++++++++++++++++\")"
   ]
  },
  {
   "cell_type": "code",
   "execution_count": 8,
   "metadata": {},
   "outputs": [
    {
     "name": "stdout",
     "output_type": "stream",
     "text": [
      "automl-dm-ep-16-02-16-45\n"
     ]
    }
   ],
   "source": [
    "print(autopilot_endpoint_name)"
   ]
  },
  {
   "cell_type": "code",
   "execution_count": 9,
   "metadata": {},
   "outputs": [
    {
     "name": "stdout",
     "output_type": "stream",
     "text": [
      "+++++++++++++++++++++++++++++++++++++++++++++++++++++++++++++++++++++++++\n",
      "[ERROR] There is no Autopilot Model Endpoint deployed.\n",
      "[INFO] This is OK. Just skip this notebook and move ahead with the next notebook.\n",
      "[INFO] This notebook is not required for the rest of this workshop.\n",
      "+++++++++++++++++++++++++++++++++++++++++++++++++++++++++++++++++++++++++\n"
     ]
    }
   ],
   "source": [
    "try:\n",
    "    resp = sm.describe_endpoint(EndpointName=autopilot_endpoint_name)\n",
    "    status = resp[\"EndpointStatus\"]\n",
    "    if status == \"InService\":\n",
    "        print(\"[OK] Your Autopilot Model Endpoint is in status: {}\".format(status))\n",
    "    elif status == \"Creating\":\n",
    "        print(\"[INFO] Your Autopilot Model Endpoint is in status: {}\".format(status))\n",
    "        print(\"[INFO] Waiting for the endpoint to be InService. Please be patient. This might take a few minutes.\")\n",
    "        sm.get_waiter(\"endpoint_in_service\").wait(EndpointName=autopilot_endpoint_name)\n",
    "    else:\n",
    "        print(\"+++++++++++++++++++++++++++++++++++++++++++++++++++++++++++++++++++++++++\")\n",
    "        print(\"[ERROR] Your Autopilot Model is in status: {}\".format(status))\n",
    "        print(\"[INFO] This is OK. Just skip this notebook and move ahead with the next notebook.\")\n",
    "        print(\"[INFO] This notebook is not required for the rest of this workshop.\")\n",
    "        print(\"+++++++++++++++++++++++++++++++++++++++++++++++++++++++++++++++++++++++++\")\n",
    "except:\n",
    "    print(\"+++++++++++++++++++++++++++++++++++++++++++++++++++++++++++++++++++++++++\")\n",
    "    print(\"[ERROR] There is no Autopilot Model Endpoint deployed.\")\n",
    "    print(\"[INFO] This is OK. Just skip this notebook and move ahead with the next notebook.\")\n",
    "    print(\"[INFO] This notebook is not required for the rest of this workshop.\")\n",
    "    print(\"+++++++++++++++++++++++++++++++++++++++++++++++++++++++++++++++++++++++++\")"
   ]
  },
  {
   "cell_type": "markdown",
   "metadata": {},
   "source": [
    "## Import PyAthena"
   ]
  },
  {
   "cell_type": "code",
   "execution_count": 10,
   "metadata": {},
   "outputs": [],
   "source": [
    "from pyathena import connect"
   ]
  },
  {
   "cell_type": "markdown",
   "metadata": {},
   "source": [
    "# Create an Athena Table with Sample Reviews"
   ]
  },
  {
   "cell_type": "markdown",
   "metadata": {},
   "source": [
    "## Check for Athena TSV Table"
   ]
  },
  {
   "cell_type": "code",
   "execution_count": 11,
   "metadata": {},
   "outputs": [],
   "source": [
    "%store -r ingest_create_athena_table_tsv_passed"
   ]
  },
  {
   "cell_type": "code",
   "execution_count": 12,
   "metadata": {},
   "outputs": [],
   "source": [
    "try:\n",
    "    ingest_create_athena_table_tsv_passed\n",
    "except NameError:\n",
    "    print(\"++++++++++++++++++++++++++++++++++++++++++++++\")\n",
    "    print(\"[ERROR] YOU HAVE TO RUN ALL NOTEBOOKS IN THE `INGEST` SECTION.\")\n",
    "    print(\"++++++++++++++++++++++++++++++++++++++++++++++\")"
   ]
  },
  {
   "cell_type": "code",
   "execution_count": 13,
   "metadata": {},
   "outputs": [
    {
     "name": "stdout",
     "output_type": "stream",
     "text": [
      "True\n"
     ]
    }
   ],
   "source": [
    "print(ingest_create_athena_table_tsv_passed)"
   ]
  },
  {
   "cell_type": "code",
   "execution_count": 14,
   "metadata": {},
   "outputs": [
    {
     "name": "stdout",
     "output_type": "stream",
     "text": [
      "[OK]\n"
     ]
    }
   ],
   "source": [
    "if not ingest_create_athena_table_tsv_passed:\n",
    "    print(\"++++++++++++++++++++++++++++++++++++++++++++++\")\n",
    "    print(\"[ERROR] YOU HAVE TO RUN ALL NOTEBOOKS IN THE `INGEST` SECTION.\")\n",
    "    print(\"++++++++++++++++++++++++++++++++++++++++++++++\")\n",
    "else:\n",
    "    print(\"[OK]\")"
   ]
  },
  {
   "cell_type": "code",
   "execution_count": 15,
   "metadata": {},
   "outputs": [],
   "source": [
    "s3_staging_dir = \"s3://{}/athena/staging\".format(bucket)"
   ]
  },
  {
   "cell_type": "code",
   "execution_count": 16,
   "metadata": {},
   "outputs": [],
   "source": [
    "tsv_prefix = \"amazon-reviews-pds/tsv\"\n",
    "database_name = \"dsoaws\"\n",
    "table_name_tsv = \"amazon_reviews_tsv\"\n",
    "table_name = \"product_reviews\""
   ]
  },
  {
   "cell_type": "code",
   "execution_count": 17,
   "metadata": {},
   "outputs": [
    {
     "name": "stdout",
     "output_type": "stream",
     "text": [
      "\n",
      "CREATE TABLE IF NOT EXISTS dsoaws.product_reviews AS \n",
      "SELECT review_id, review_body \n",
      "FROM dsoaws.amazon_reviews_tsv\n",
      "\n"
     ]
    }
   ],
   "source": [
    "statement = \"\"\"\n",
    "CREATE TABLE IF NOT EXISTS {}.{} AS \n",
    "SELECT review_id, review_body \n",
    "FROM {}.{}\n",
    "\"\"\".format(\n",
    "    database_name, table_name, database_name, table_name_tsv\n",
    ")\n",
    "\n",
    "print(statement)"
   ]
  },
  {
   "cell_type": "code",
   "execution_count": 18,
   "metadata": {},
   "outputs": [
    {
     "name": "stdout",
     "output_type": "stream",
     "text": [
      "+++++++++++++++++++++++++++++++++++++++++++++++++++++++++++++++++++++++++\n",
      " [ERROR] AthenaML IS *NOT* SUPPORTED IN eu-west-2 !!\n",
      " [INFO] This is OK. SKIP this notebook and move ahead with the workshop.\n",
      " [INFO] This notebook is not required for the rest of this workshop.\n",
      "+++++++++++++++++++++++++++++++++++++++++++++++++++++++++++++++++++++++++\n"
     ]
    }
   ],
   "source": [
    "import pandas as pd\n",
    "\n",
    "if region in [\"eu-west-1\", \"ap-south-1\", \"us-east-1\", \"us-west-2\"]:\n",
    "    conn = connect(region_name=region, s3_staging_dir=s3_staging_dir)\n",
    "    pd.read_sql(statement, conn)\n",
    "\n",
    "    print(\"[OK]\")\n",
    "else:\n",
    "    print(\"+++++++++++++++++++++++++++++++++++++++++++++++++++++++++++++++++++++++++\")\n",
    "    print(\" [ERROR] AthenaML IS *NOT* SUPPORTED IN {} !!\".format(region))\n",
    "    print(\" [INFO] This is OK. SKIP this notebook and move ahead with the workshop.\")\n",
    "    print(\" [INFO] This notebook is not required for the rest of this workshop.\")\n",
    "    print(\"+++++++++++++++++++++++++++++++++++++++++++++++++++++++++++++++++++++++++\")"
   ]
  },
  {
   "cell_type": "code",
   "execution_count": 19,
   "metadata": {},
   "outputs": [],
   "source": [
    "if region in [\"eu-west-1\", \"ap-south-1\", \"us-east-1\", \"us-west-2\"]:\n",
    "    statement = \"SELECT * FROM {}.{} LIMIT 10\".format(database_name, table_name)\n",
    "    conn = connect(region_name=region, s3_staging_dir=s3_staging_dir)\n",
    "    df_table = pd.read_sql(statement, conn)\n",
    "    print(df_table)"
   ]
  },
  {
   "cell_type": "markdown",
   "metadata": {},
   "source": [
    "## Add the Required `AmazonAthenaPreviewFunctionality` Work Group to Use This Preview Feature"
   ]
  },
  {
   "cell_type": "code",
   "execution_count": 20,
   "metadata": {},
   "outputs": [
    {
     "name": "stderr",
     "output_type": "stream",
     "text": [
      "/home/sagemaker-user/.conda/envs/data_science_on_aws/lib/python3.7/site-packages/boto3/compat.py:82: PythonDeprecationWarning: Boto3 will no longer support Python 3.7 starting December 13, 2023. To continue receiving service updates, bug fixes, and security updates please upgrade to Python 3.8 or later. More information can be found here: https://aws.amazon.com/blogs/developer/python-support-policy-updates-for-aws-sdks-and-tools/\n",
      "  warnings.warn(warning, PythonDeprecationWarning)\n"
     ]
    }
   ],
   "source": [
    "from botocore.exceptions import ClientError\n",
    "\n",
    "client = boto3.client(\"athena\")\n",
    "\n",
    "if region in [\"eu-west-1\", \"ap-south-1\", \"us-east-1\", \"us-west-2\"]:\n",
    "    try:\n",
    "        response = client.create_work_group(Name=\"AmazonAthenaPreviewFunctionality\")\n",
    "        print(response)\n",
    "    except ClientError as e:\n",
    "        if e.response[\"Error\"][\"Code\"] == \"InvalidRequestException\":\n",
    "            print(\"[OK] Workgroup already exists.\")\n",
    "        else:\n",
    "            print(\"[ERROR] {}\".format(e))"
   ]
  },
  {
   "cell_type": "markdown",
   "metadata": {},
   "source": [
    "# Create SQL Query"
   ]
  },
  {
   "cell_type": "markdown",
   "metadata": {},
   "source": [
    "The `USING FUNCTION` clause specifies an ML with Athena (Preview) function or multiple functions that can be referenced by a subsequent `SELECT` statement in the query. You define the function name, variable names, and data types for the variables and return values."
   ]
  },
  {
   "cell_type": "code",
   "execution_count": 21,
   "metadata": {
    "scrolled": true
   },
   "outputs": [
    {
     "name": "stdout",
     "output_type": "stream",
     "text": [
      "\n",
      "USING FUNCTION predict_star_rating(review_body VARCHAR) \n",
      "    RETURNS VARCHAR TYPE\n",
      "    SAGEMAKER_INVOKE_ENDPOINT WITH (sagemaker_endpoint = 'automl-dm-ep-16-02-16-45'\n",
      ")\n",
      "SELECT review_id, review_body, predict_star_rating(REPLACE(review_body, ',', ' ')) AS predicted_star_rating \n",
      "    FROM dsoaws.product_reviews LIMIT 10\n",
      "    \n"
     ]
    }
   ],
   "source": [
    "statement = \"\"\"\n",
    "USING FUNCTION predict_star_rating(review_body VARCHAR) \n",
    "    RETURNS VARCHAR TYPE\n",
    "    SAGEMAKER_INVOKE_ENDPOINT WITH (sagemaker_endpoint = '{}'\n",
    ")\n",
    "SELECT review_id, review_body, predict_star_rating(REPLACE(review_body, ',', ' ')) AS predicted_star_rating \n",
    "    FROM {}.{} LIMIT 10\n",
    "    \"\"\".format(\n",
    "    autopilot_endpoint_name, database_name, table_name\n",
    ")\n",
    "\n",
    "print(statement)"
   ]
  },
  {
   "cell_type": "markdown",
   "metadata": {},
   "source": [
    "# Query the Autopilot Endpoint using Data from the Athena Table"
   ]
  },
  {
   "cell_type": "code",
   "execution_count": null,
   "metadata": {},
   "outputs": [],
   "source": [
    "if region in [\"eu-west-1\", \"eu-west-2\", \"ap-south-1\", \"us-east-1\", \"us-west-2\"]:\n",
    "    conn = connect(region_name=region, s3_staging_dir=s3_staging_dir, work_group=\"AmazonAthenaPreviewFunctionality\")\n",
    "    df = pd.read_sql(statement, conn)\n",
    "    print(df)"
   ]
  },
  {
   "cell_type": "markdown",
   "metadata": {},
   "source": [
    "# Delete Endpoint"
   ]
  },
  {
   "cell_type": "code",
   "execution_count": null,
   "metadata": {},
   "outputs": [],
   "source": [
    "sm = boto3.client(\"sagemaker\")\n",
    "\n",
    "if autopilot_endpoint_name:\n",
    "    sm.delete_endpoint(EndpointName=autopilot_endpoint_name)"
   ]
  },
  {
   "cell_type": "code",
   "execution_count": 27,
   "metadata": {},
   "outputs": [
    {
     "data": {
      "text/html": [
       "\n",
       "<p><b>Shutting down your kernel for this notebook to release resources.</b></p>\n",
       "<button class=\"sm-command-button\" data-commandlinker-command=\"kernelmenu:shutdown\" style=\"display:none;\">Shutdown Kernel</button>\n",
       "        \n",
       "<script>\n",
       "try {\n",
       "    els = document.getElementsByClassName(\"sm-command-button\");\n",
       "    els[0].click();\n",
       "}\n",
       "catch(err) {\n",
       "    // NoOp\n",
       "}    \n",
       "</script>\n"
      ],
      "text/plain": [
       "<IPython.core.display.HTML object>"
      ]
     },
     "metadata": {},
     "output_type": "display_data"
    }
   ],
   "source": [
    "%%html\n",
    "\n",
    "<p><b>Shutting down your kernel for this notebook to release resources.</b></p>\n",
    "<button class=\"sm-command-button\" data-commandlinker-command=\"kernelmenu:shutdown\" style=\"display:none;\">Shutdown Kernel</button>\n",
    "        \n",
    "<script>\n",
    "try {\n",
    "    els = document.getElementsByClassName(\"sm-command-button\");\n",
    "    els[0].click();\n",
    "}\n",
    "catch(err) {\n",
    "    // NoOp\n",
    "}    \n",
    "</script>"
   ]
  },
  {
   "cell_type": "code",
   "execution_count": 28,
   "metadata": {},
   "outputs": [
    {
     "data": {
      "application/javascript": "\ntry {\n    Jupyter.notebook.save_checkpoint();\n    Jupyter.notebook.session.delete();\n}\ncatch(err) {\n    // NoOp\n}\n",
      "text/plain": [
       "<IPython.core.display.Javascript object>"
      ]
     },
     "metadata": {},
     "output_type": "display_data"
    }
   ],
   "source": [
    "%%javascript\n",
    "\n",
    "try {\n",
    "    Jupyter.notebook.save_checkpoint();\n",
    "    Jupyter.notebook.session.delete();\n",
    "}\n",
    "catch(err) {\n",
    "    // NoOp\n",
    "}"
   ]
  }
 ],
 "metadata": {
  "instance_type": "ml.t3.medium",
  "kernelspec": {
   "display_name": "data_science_on_aws",
   "language": "python",
   "name": "python3"
  },
  "language_info": {
   "codemirror_mode": {
    "name": "ipython",
    "version": 3
   },
   "file_extension": ".py",
   "mimetype": "text/x-python",
   "name": "python",
   "nbconvert_exporter": "python",
   "pygments_lexer": "ipython3",
   "version": "3.7.16"
  }
 },
 "nbformat": 4,
 "nbformat_minor": 4
}
